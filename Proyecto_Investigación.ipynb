{
  "nbformat": 4,
  "nbformat_minor": 0,
  "metadata": {
    "colab": {
      "name": "Proyecto Investigación.ipynb",
      "provenance": [],
      "collapsed_sections": [],
      "include_colab_link": true
    },
    "kernelspec": {
      "name": "python3",
      "display_name": "Python 3"
    }
  },
  "cells": [
    {
      "cell_type": "markdown",
      "metadata": {
        "id": "view-in-github",
        "colab_type": "text"
      },
      "source": [
        "<a href=\"https://colab.research.google.com/github/davsan06/Cosmo_with_Supernovae_Ia/blob/main/Proyecto_Investigaci%C3%B3n.ipynb\" target=\"_parent\"><img src=\"https://colab.research.google.com/assets/colab-badge.svg\" alt=\"Open In Colab\"/></a>"
      ]
    },
    {
      "cell_type": "code",
      "metadata": {
        "id": "kTiJWTCsuLzE"
      },
      "source": [
        "#Variables \n",
        "# C = Velocidad de la luz\n",
        "# Mpc = Valor de 1 MegaPársec\n",
        "# H = Constante de Hubble\n",
        "# RH = Radio de HUbble\n",
        "# Am = Abundancia de materia\n",
        "# Ar = Abundancia de radiación\n",
        "# AeO = Abundancia de energía oscura\n",
        "# w = Constante de Barotropía\n",
        "# z = redshift\n",
        "# Hz = Parámetro de Hubble\n",
        "# AK = Abundancia de curvatura\n",
        "# X(z) = Distancia comóvil\n",
        "\n"
      ],
      "execution_count": null,
      "outputs": []
    },
    {
      "cell_type": "code",
      "metadata": {
        "colab": {
          "base_uri": "https://localhost:8080/",
          "height": 527
        },
        "id": "9IUg4mUQgBHA",
        "outputId": "9d355964-69e8-4ae0-d637-1e3e7393f298"
      },
      "source": [
        "from google.colab import drive\n",
        "drive.mount('/content/drive')"
      ],
      "execution_count": null,
      "outputs": [
        {
          "output_type": "error",
          "ename": "KeyboardInterrupt",
          "evalue": "ignored",
          "traceback": [
            "\u001b[0;31m---------------------------------------------------------------------------\u001b[0m",
            "\u001b[0;31mKeyboardInterrupt\u001b[0m                         Traceback (most recent call last)",
            "\u001b[0;32m/usr/local/lib/python3.7/dist-packages/ipykernel/kernelbase.py\u001b[0m in \u001b[0;36m_input_request\u001b[0;34m(self, prompt, ident, parent, password)\u001b[0m\n\u001b[1;32m    728\u001b[0m             \u001b[0;32mtry\u001b[0m\u001b[0;34m:\u001b[0m\u001b[0;34m\u001b[0m\u001b[0;34m\u001b[0m\u001b[0m\n\u001b[0;32m--> 729\u001b[0;31m                 \u001b[0mident\u001b[0m\u001b[0;34m,\u001b[0m \u001b[0mreply\u001b[0m \u001b[0;34m=\u001b[0m \u001b[0mself\u001b[0m\u001b[0;34m.\u001b[0m\u001b[0msession\u001b[0m\u001b[0;34m.\u001b[0m\u001b[0mrecv\u001b[0m\u001b[0;34m(\u001b[0m\u001b[0mself\u001b[0m\u001b[0;34m.\u001b[0m\u001b[0mstdin_socket\u001b[0m\u001b[0;34m,\u001b[0m \u001b[0;36m0\u001b[0m\u001b[0;34m)\u001b[0m\u001b[0;34m\u001b[0m\u001b[0;34m\u001b[0m\u001b[0m\n\u001b[0m\u001b[1;32m    730\u001b[0m             \u001b[0;32mexcept\u001b[0m \u001b[0mException\u001b[0m\u001b[0;34m:\u001b[0m\u001b[0;34m\u001b[0m\u001b[0;34m\u001b[0m\u001b[0m\n",
            "\u001b[0;32m/usr/local/lib/python3.7/dist-packages/jupyter_client/session.py\u001b[0m in \u001b[0;36mrecv\u001b[0;34m(self, socket, mode, content, copy)\u001b[0m\n\u001b[1;32m    802\u001b[0m         \u001b[0;32mtry\u001b[0m\u001b[0;34m:\u001b[0m\u001b[0;34m\u001b[0m\u001b[0;34m\u001b[0m\u001b[0m\n\u001b[0;32m--> 803\u001b[0;31m             \u001b[0mmsg_list\u001b[0m \u001b[0;34m=\u001b[0m \u001b[0msocket\u001b[0m\u001b[0;34m.\u001b[0m\u001b[0mrecv_multipart\u001b[0m\u001b[0;34m(\u001b[0m\u001b[0mmode\u001b[0m\u001b[0;34m,\u001b[0m \u001b[0mcopy\u001b[0m\u001b[0;34m=\u001b[0m\u001b[0mcopy\u001b[0m\u001b[0;34m)\u001b[0m\u001b[0;34m\u001b[0m\u001b[0;34m\u001b[0m\u001b[0m\n\u001b[0m\u001b[1;32m    804\u001b[0m         \u001b[0;32mexcept\u001b[0m \u001b[0mzmq\u001b[0m\u001b[0;34m.\u001b[0m\u001b[0mZMQError\u001b[0m \u001b[0;32mas\u001b[0m \u001b[0me\u001b[0m\u001b[0;34m:\u001b[0m\u001b[0;34m\u001b[0m\u001b[0;34m\u001b[0m\u001b[0m\n",
            "\u001b[0;32m/usr/local/lib/python3.7/dist-packages/zmq/sugar/socket.py\u001b[0m in \u001b[0;36mrecv_multipart\u001b[0;34m(self, flags, copy, track)\u001b[0m\n\u001b[1;32m    624\u001b[0m         \"\"\"\n\u001b[0;32m--> 625\u001b[0;31m         \u001b[0mparts\u001b[0m \u001b[0;34m=\u001b[0m \u001b[0;34m[\u001b[0m\u001b[0mself\u001b[0m\u001b[0;34m.\u001b[0m\u001b[0mrecv\u001b[0m\u001b[0;34m(\u001b[0m\u001b[0mflags\u001b[0m\u001b[0;34m,\u001b[0m \u001b[0mcopy\u001b[0m\u001b[0;34m=\u001b[0m\u001b[0mcopy\u001b[0m\u001b[0;34m,\u001b[0m \u001b[0mtrack\u001b[0m\u001b[0;34m=\u001b[0m\u001b[0mtrack\u001b[0m\u001b[0;34m)\u001b[0m\u001b[0;34m]\u001b[0m\u001b[0;34m\u001b[0m\u001b[0;34m\u001b[0m\u001b[0m\n\u001b[0m\u001b[1;32m    626\u001b[0m         \u001b[0;31m# have first part already, only loop while more to receive\u001b[0m\u001b[0;34m\u001b[0m\u001b[0;34m\u001b[0m\u001b[0;34m\u001b[0m\u001b[0m\n",
            "\u001b[0;32mzmq/backend/cython/socket.pyx\u001b[0m in \u001b[0;36mzmq.backend.cython.socket.Socket.recv\u001b[0;34m()\u001b[0m\n",
            "\u001b[0;32mzmq/backend/cython/socket.pyx\u001b[0m in \u001b[0;36mzmq.backend.cython.socket.Socket.recv\u001b[0;34m()\u001b[0m\n",
            "\u001b[0;32mzmq/backend/cython/socket.pyx\u001b[0m in \u001b[0;36mzmq.backend.cython.socket._recv_copy\u001b[0;34m()\u001b[0m\n",
            "\u001b[0;32m/usr/local/lib/python3.7/dist-packages/zmq/backend/cython/checkrc.pxd\u001b[0m in \u001b[0;36mzmq.backend.cython.checkrc._check_rc\u001b[0;34m()\u001b[0m\n",
            "\u001b[0;31mKeyboardInterrupt\u001b[0m: ",
            "\nDuring handling of the above exception, another exception occurred:\n",
            "\u001b[0;31mKeyboardInterrupt\u001b[0m                         Traceback (most recent call last)",
            "\u001b[0;32m<ipython-input-1-d5df0069828e>\u001b[0m in \u001b[0;36m<module>\u001b[0;34m()\u001b[0m\n\u001b[1;32m      1\u001b[0m \u001b[0;32mfrom\u001b[0m \u001b[0mgoogle\u001b[0m\u001b[0;34m.\u001b[0m\u001b[0mcolab\u001b[0m \u001b[0;32mimport\u001b[0m \u001b[0mdrive\u001b[0m\u001b[0;34m\u001b[0m\u001b[0;34m\u001b[0m\u001b[0m\n\u001b[0;32m----> 2\u001b[0;31m \u001b[0mdrive\u001b[0m\u001b[0;34m.\u001b[0m\u001b[0mmount\u001b[0m\u001b[0;34m(\u001b[0m\u001b[0;34m'/content/drive'\u001b[0m\u001b[0;34m)\u001b[0m\u001b[0;34m\u001b[0m\u001b[0;34m\u001b[0m\u001b[0m\n\u001b[0m",
            "\u001b[0;32m/usr/local/lib/python3.7/dist-packages/google/colab/drive.py\u001b[0m in \u001b[0;36mmount\u001b[0;34m(mountpoint, force_remount, timeout_ms, use_metadata_server)\u001b[0m\n\u001b[1;32m    111\u001b[0m       \u001b[0mtimeout_ms\u001b[0m\u001b[0;34m=\u001b[0m\u001b[0mtimeout_ms\u001b[0m\u001b[0;34m,\u001b[0m\u001b[0;34m\u001b[0m\u001b[0;34m\u001b[0m\u001b[0m\n\u001b[1;32m    112\u001b[0m       \u001b[0muse_metadata_server\u001b[0m\u001b[0;34m=\u001b[0m\u001b[0muse_metadata_server\u001b[0m\u001b[0;34m,\u001b[0m\u001b[0;34m\u001b[0m\u001b[0;34m\u001b[0m\u001b[0m\n\u001b[0;32m--> 113\u001b[0;31m       ephemeral=ephemeral)\n\u001b[0m\u001b[1;32m    114\u001b[0m \u001b[0;34m\u001b[0m\u001b[0m\n\u001b[1;32m    115\u001b[0m \u001b[0;34m\u001b[0m\u001b[0m\n",
            "\u001b[0;32m/usr/local/lib/python3.7/dist-packages/google/colab/drive.py\u001b[0m in \u001b[0;36m_mount\u001b[0;34m(mountpoint, force_remount, timeout_ms, use_metadata_server, ephemeral)\u001b[0m\n\u001b[1;32m    290\u001b[0m       \u001b[0;32mwith\u001b[0m \u001b[0m_output\u001b[0m\u001b[0;34m.\u001b[0m\u001b[0muse_tags\u001b[0m\u001b[0;34m(\u001b[0m\u001b[0;34m'dfs-auth-dance'\u001b[0m\u001b[0;34m)\u001b[0m\u001b[0;34m:\u001b[0m\u001b[0;34m\u001b[0m\u001b[0;34m\u001b[0m\u001b[0m\n\u001b[1;32m    291\u001b[0m         \u001b[0;32mwith\u001b[0m \u001b[0mopen\u001b[0m\u001b[0;34m(\u001b[0m\u001b[0mfifo\u001b[0m\u001b[0;34m,\u001b[0m \u001b[0;34m'w'\u001b[0m\u001b[0;34m)\u001b[0m \u001b[0;32mas\u001b[0m \u001b[0mfifo_file\u001b[0m\u001b[0;34m:\u001b[0m\u001b[0;34m\u001b[0m\u001b[0;34m\u001b[0m\u001b[0m\n\u001b[0;32m--> 292\u001b[0;31m           \u001b[0mfifo_file\u001b[0m\u001b[0;34m.\u001b[0m\u001b[0mwrite\u001b[0m\u001b[0;34m(\u001b[0m\u001b[0mget_code\u001b[0m\u001b[0;34m(\u001b[0m\u001b[0mauth_prompt\u001b[0m\u001b[0;34m)\u001b[0m \u001b[0;34m+\u001b[0m \u001b[0;34m'\\n'\u001b[0m\u001b[0;34m)\u001b[0m\u001b[0;34m\u001b[0m\u001b[0;34m\u001b[0m\u001b[0m\n\u001b[0m\u001b[1;32m    293\u001b[0m       \u001b[0mwrote_to_fifo\u001b[0m \u001b[0;34m=\u001b[0m \u001b[0;32mTrue\u001b[0m\u001b[0;34m\u001b[0m\u001b[0;34m\u001b[0m\u001b[0m\n\u001b[1;32m    294\u001b[0m     \u001b[0;32melif\u001b[0m \u001b[0mcase\u001b[0m \u001b[0;34m==\u001b[0m \u001b[0;36m5\u001b[0m\u001b[0;34m:\u001b[0m\u001b[0;34m\u001b[0m\u001b[0;34m\u001b[0m\u001b[0m\n",
            "\u001b[0;32m/usr/local/lib/python3.7/dist-packages/ipykernel/kernelbase.py\u001b[0m in \u001b[0;36mraw_input\u001b[0;34m(self, prompt)\u001b[0m\n\u001b[1;32m    702\u001b[0m             \u001b[0mself\u001b[0m\u001b[0;34m.\u001b[0m\u001b[0m_parent_ident\u001b[0m\u001b[0;34m,\u001b[0m\u001b[0;34m\u001b[0m\u001b[0;34m\u001b[0m\u001b[0m\n\u001b[1;32m    703\u001b[0m             \u001b[0mself\u001b[0m\u001b[0;34m.\u001b[0m\u001b[0m_parent_header\u001b[0m\u001b[0;34m,\u001b[0m\u001b[0;34m\u001b[0m\u001b[0;34m\u001b[0m\u001b[0m\n\u001b[0;32m--> 704\u001b[0;31m             \u001b[0mpassword\u001b[0m\u001b[0;34m=\u001b[0m\u001b[0;32mFalse\u001b[0m\u001b[0;34m,\u001b[0m\u001b[0;34m\u001b[0m\u001b[0;34m\u001b[0m\u001b[0m\n\u001b[0m\u001b[1;32m    705\u001b[0m         )\n\u001b[1;32m    706\u001b[0m \u001b[0;34m\u001b[0m\u001b[0m\n",
            "\u001b[0;32m/usr/local/lib/python3.7/dist-packages/ipykernel/kernelbase.py\u001b[0m in \u001b[0;36m_input_request\u001b[0;34m(self, prompt, ident, parent, password)\u001b[0m\n\u001b[1;32m    732\u001b[0m             \u001b[0;32mexcept\u001b[0m \u001b[0mKeyboardInterrupt\u001b[0m\u001b[0;34m:\u001b[0m\u001b[0;34m\u001b[0m\u001b[0;34m\u001b[0m\u001b[0m\n\u001b[1;32m    733\u001b[0m                 \u001b[0;31m# re-raise KeyboardInterrupt, to truncate traceback\u001b[0m\u001b[0;34m\u001b[0m\u001b[0;34m\u001b[0m\u001b[0;34m\u001b[0m\u001b[0m\n\u001b[0;32m--> 734\u001b[0;31m                 \u001b[0;32mraise\u001b[0m \u001b[0mKeyboardInterrupt\u001b[0m\u001b[0;34m\u001b[0m\u001b[0;34m\u001b[0m\u001b[0m\n\u001b[0m\u001b[1;32m    735\u001b[0m             \u001b[0;32melse\u001b[0m\u001b[0;34m:\u001b[0m\u001b[0;34m\u001b[0m\u001b[0;34m\u001b[0m\u001b[0m\n\u001b[1;32m    736\u001b[0m                 \u001b[0;32mbreak\u001b[0m\u001b[0;34m\u001b[0m\u001b[0;34m\u001b[0m\u001b[0m\n",
            "\u001b[0;31mKeyboardInterrupt\u001b[0m: "
          ]
        }
      ]
    },
    {
      "cell_type": "code",
      "metadata": {
        "id": "dud6ENSB7bPo"
      },
      "source": [
        "import numpy as np\n",
        "import matplotlib.pyplot as plt\n",
        "import scipy.integrate as sci\n",
        "import os"
      ],
      "execution_count": null,
      "outputs": []
    },
    {
      "cell_type": "code",
      "metadata": {
        "id": "KMV1e8OLw4aV"
      },
      "source": [
        "Mpc = 3.086*10**22\n",
        "c = 2.99792e5\n",
        "H = 70\n",
        "RH = c/H\n",
        "Am = 0.3\n",
        "Ar = 9*10**-5\n",
        "AeO = 0.7\n",
        "w = -1\n",
        "Ak = 0"
      ],
      "execution_count": null,
      "outputs": []
    },
    {
      "cell_type": "code",
      "metadata": {
        "id": "AQUMpgX_Nn1C"
      },
      "source": [
        "def par_hubble(z,H,Am,Ar,AeO):\n",
        "\n",
        "  # La abundancia de curvatura esta ligada por\n",
        "  Ak = 1- Am - AeO\n",
        "  c = H*np.sqrt(Ar*(1+z)**4 + Am*(1+z)**3 + Ak*(1+z)**2 + AeO)\n",
        "\n",
        "  return(c)"
      ],
      "execution_count": null,
      "outputs": []
    },
    {
      "cell_type": "markdown",
      "metadata": {
        "id": "tXOOMOt87h55"
      },
      "source": [
        "Comprobación: recuperamos la constante de Hubble introducida. A redshift z=0 el parámetro de Hubble es lo que conocemos como la constante de Hubble."
      ]
    },
    {
      "cell_type": "code",
      "metadata": {
        "colab": {
          "base_uri": "https://localhost:8080/"
        },
        "id": "QJw64xtdBBE0",
        "outputId": "fa09386b-2a1a-49c0-e457-83501b19a65c"
      },
      "source": [
        "print(par_hubble(z=0, H=70, Am=0.3, Ar=0, AeO=0.7))"
      ],
      "execution_count": null,
      "outputs": [
        {
          "output_type": "stream",
          "name": "stdout",
          "text": [
            "70.0\n"
          ]
        }
      ]
    },
    {
      "cell_type": "code",
      "metadata": {
        "id": "TjIOuz9HB7d9",
        "colab": {
          "base_uri": "https://localhost:8080/"
        },
        "outputId": "434ddf5c-7ecf-4a46-a88b-29a04ba48b17"
      },
      "source": [
        "#Parámetro de Hubble en el Modelo Cosmológico Estandar\n",
        "print(par_hubble(z=np.linspace(0, 2, 100), H=70, Am=0.3, Ar=0, AeO=0.7))"
      ],
      "execution_count": null,
      "outputs": [
        {
          "output_type": "stream",
          "name": "stdout",
          "text": [
            "[ 70.          70.64632224  71.31253777  71.99859939  72.70444537\n",
            "  73.43000035  74.17517616  74.93987267  75.72397867  76.52737267\n",
            "  77.34992373  78.19149228  79.05193091  79.93108511  80.82879402\n",
            "  81.74489116  82.67920506  83.63155994  84.60177632  85.5896716\n",
            "  86.59506062  87.61775614  88.65756938  89.71431043  90.78778868\n",
            "  91.8778132   92.98419314  94.106738    95.24525799  96.39956426\n",
            "  97.56946919  98.7547866   99.95533193 101.17092248 102.40137751\n",
            " 103.64651845 104.90616894 106.18015505 107.46830527 108.77045066\n",
            " 110.08642487 111.41606425 112.75920783 114.11569742 115.48537755\n",
            " 116.86809558 118.26370166 119.67204869 121.09299242 122.52639134\n",
            " 123.97210671 125.43000252 126.89994551 128.38180506 129.87545326\n",
            " 131.38076476 132.89761686 134.42588934 135.96546455 137.51622726\n",
            " 139.07806467 140.65086636 142.23452425 143.82893253 145.43398764\n",
            " 147.0495882  148.67563501 150.31203093 151.9586809  153.61549187\n",
            " 155.28237275 156.95923437 158.64598943 160.34255247 162.04883982\n",
            " 163.76476954 165.4902614  167.22523684 168.96961891 170.72333225\n",
            " 172.48630304 174.25845896 176.03972916 177.83004421 179.6293361\n",
            " 181.43753816 183.25458504 185.08041269 186.91495833 188.75816038\n",
            " 190.60995848 192.47029344 194.33910718 196.21634274 198.10194426\n",
            " 199.9958569  201.89802688 203.80840138 205.72692859 207.65355764]\n"
          ]
        }
      ]
    },
    {
      "cell_type": "code",
      "metadata": {
        "id": "6NIasMosCOFn"
      },
      "source": [
        "import matplotlib.pyplot as plt"
      ],
      "execution_count": null,
      "outputs": []
    },
    {
      "cell_type": "code",
      "metadata": {
        "id": "4N9yc7eW78rm"
      },
      "source": [
        " z=np.linspace(0, 2, 100)"
      ],
      "execution_count": null,
      "outputs": []
    },
    {
      "cell_type": "code",
      "metadata": {
        "id": "WCxDFwtgCbFE",
        "colab": {
          "base_uri": "https://localhost:8080/",
          "height": 265
        },
        "outputId": "4773267e-b5a9-46ae-ba9c-8f1cd5891e47"
      },
      "source": [
        "#Graficamos el parámetro de Hubble en el Módelo Cosmológico Estándar, con un redshift  formado por un array de 0 a 2 con 100 puntos \n",
        "\n",
        "plt.figure()\n",
        "plt.plot(z, par_hubble(z=np.linspace(0, 2, 100), H=70, Am=0.3, Ar=0, AeO=0.7), label= 'λCDM' )\n",
        "plt.show()\n"
      ],
      "execution_count": null,
      "outputs": [
        {
          "output_type": "display_data",
          "data": {
            "image/png": "[encoded data removed]",
            "text/plain": [
              "<Figure size 432x288 with 1 Axes>"
            ]
          },
          "metadata": {
            "needs_background": "light"
          }
        }
      ]
    },
    {
      "cell_type": "code",
      "metadata": {
        "id": "1ymuNuNEFk7T"
      },
      "source": [
        "def dist_comovil(z,H,Am,Ar,AeO):\n",
        "\n",
        "  # La abundancia de curvatura esta ligada por\n",
        "  Ak = 1- Am - AeO\n",
        "\n",
        "  # Definimos el integrando de la ecuación de la distancia comóvil\n",
        "  def E(z):\n",
        "    \n",
        "    # return H/np.sqrt(Ar*(1+z)**4 + Am*(1+z)**3 + Ak*(1+z)**2 + AeO)\n",
        "    return 1/np.sqrt(Ar*(1+z)**4 + Am*(1+z)**3 + Ak*(1+z)**2 + AeO)\n",
        "\n",
        "  Chi=np.zeros_like(z)\n",
        "\n",
        "  for i in np.arange(len(z)):\n",
        "      Chi[i]=RH*sci.quad(E,0,z[i])[0]\n",
        "\n",
        "  return Chi"
      ],
      "execution_count": null,
      "outputs": []
    },
    {
      "cell_type": "code",
      "metadata": {
        "colab": {
          "base_uri": "https://localhost:8080/"
        },
        "id": "QOaVWm4AImtO",
        "outputId": "cdadf8bc-740a-4d5a-b1ab-40eef8d7c452"
      },
      "source": [
        "print(dist_comovil(z=np.linspace(0,1,20), H=65,Am=0.0,Ar=0.0,AeO=1.0))"
      ],
      "execution_count": null,
      "outputs": [
        {
          "output_type": "stream",
          "name": "stdout",
          "text": [
            "[   0.          225.4075188   450.81503759  676.22255639  901.63007519\n",
            " 1127.03759398 1352.44511278 1577.85263158 1803.26015038 2028.66766917\n",
            " 2254.07518797 2479.48270677 2704.89022556 2930.29774436 3155.70526316\n",
            " 3381.11278195 3606.52030075 3831.92781955 4057.33533835 4282.74285714]\n"
          ]
        }
      ]
    },
    {
      "cell_type": "code",
      "metadata": {
        "id": "8Ix8n83sJvTl",
        "colab": {
          "base_uri": "https://localhost:8080/",
          "height": 301
        },
        "outputId": "8eacf285-ea02-4023-d318-d2c2cd3dd80b"
      },
      "source": [
        "plt.figure()\n",
        "plt.errorbar(np.linspace(0, 2,100), dist_comovil(z=np.linspace(0, 2,100), H=70,Am=0.3,Ar=0.0,AeO=0.7), fmt='o', ms=1.5, color='b', elinewidth=0.8,capsize=1, label= 'λCDM')\n",
        "plt.legend()\n",
        "plt.xlabel(r'$z$ -- redshift', fontsize = 14)\n",
        "plt.ylabel('Distancia Comóvil', fontsize = 14)\n",
        "plt.title('Distancia Radial Comóvil', fontsize = 14)\n",
        "plt.show()"
      ],
      "execution_count": null,
      "outputs": [
        {
          "output_type": "display_data",
          "data": {
            "image/png": "[encoded data removed]",
            "text/plain": [
              "<Figure size 432x288 with 1 Axes>"
            ]
          },
          "metadata": {
            "needs_background": "light"
          }
        }
      ]
    },
    {
      "cell_type": "code",
      "metadata": {
        "id": "KT4cP64AVNTT"
      },
      "source": [
        "#Definimos la distancia transversal comóvil y mediante bucles condicionales (if,elif) definimos las diferentes situaciones para la abundancia de curvatura\n",
        "\n",
        "def dist_trans(RH,z,H,Am,Ar,AeO):\n",
        "\n",
        "  # La abundancia de curvatura esta ligada por\n",
        "  Ak = 1- Am - AeO\n",
        "\n",
        "  if Ak > 0:\n",
        "\n",
        "    dist = RH/np.sqrt(Ak)*np.sinh((np.sqrt(Ak)/RH)*dist_comovil(z,H,Am,Ar,AeO))\n",
        "\n",
        "  elif Ak < 0:   \n",
        "\n",
        "    dist = RH/np.sqrt(Ak)*np.sin((np.sqrt(Ak)/RH)*dist_comovil(z,H,Am,Ar,AeO))\n",
        "\n",
        "  elif Ak == 0:\n",
        "\n",
        "    dist = dist_comovil(z,H,Am,Ar,AeO)\n",
        "\n",
        "  return dist\n",
        "  "
      ],
      "execution_count": null,
      "outputs": []
    },
    {
      "cell_type": "markdown",
      "metadata": {
        "id": "Xk2TcmQb01S2"
      },
      "source": [
        "Definimos las distancias restantes, junto a mu, que en este caso representa el módulo de la distancia "
      ]
    },
    {
      "cell_type": "code",
      "metadata": {
        "id": "as-TbUYlFkjX"
      },
      "source": [
        "def dist_lum(RH,z,H,Am,Ar,AeO):\n",
        "\n",
        "  return (1+z)*dist_trans(RH,z,H,Am,Ar,AeO)"
      ],
      "execution_count": null,
      "outputs": []
    },
    {
      "cell_type": "code",
      "metadata": {
        "id": "TMDmlAbGXshc"
      },
      "source": [
        "def dist_ng(RH,z,H,Am,Ar,AeO):\n",
        "\n",
        " return dist_trans(RH,z,H,Am,Ar,AeO)/(1+z)"
      ],
      "execution_count": null,
      "outputs": []
    },
    {
      "cell_type": "code",
      "metadata": {
        "id": "izURVs1BX8ya"
      },
      "source": [
        "def mu(RH,z,H,Am,Ar,AeO):\n",
        "\n",
        "  return 25+5*np.log10(dist_lum(RH,z,H,Am,Ar,AeO))"
      ],
      "execution_count": null,
      "outputs": []
    },
    {
      "cell_type": "code",
      "metadata": {
        "id": "iD103zYPd1DH",
        "colab": {
          "base_uri": "https://localhost:8080/"
        },
        "outputId": "2fc30621-a8b9-466c-bb3f-0dc2b77b24ae"
      },
      "source": [
        "print (mu(RH=c/H, z=np.linspace(0, 2, 100), H=70, Am=0.3, Ar=0.0, AeO=0.7))"
      ],
      "execution_count": null,
      "outputs": [
        {
          "output_type": "stream",
          "name": "stdout",
          "text": [
            "[       -inf 34.7190797  36.25674709 37.16877994 37.82414496 38.3384951\n",
            " 38.76336251 39.12624964 39.44358409 39.72597117 39.98065983 40.21282705\n",
            " 40.42630098 40.6239937  40.8081731  40.98064079 41.14285251 41.29600192\n",
            " 41.44108043 41.57892091 41.71023009 41.83561307 41.9555922  42.07062169\n",
            " 42.18109911 42.28737464 42.38975836 42.48852631 42.58392535 42.67617724\n",
            " 42.76548195 42.85202054 42.93595746 43.01744262 43.09661305 43.17359435\n",
            " 43.24850203 43.32144251 43.39251408 43.46180776 43.529408   43.59539328\n",
            " 43.65983672 43.72280652 43.78436645 43.84457617 43.90349164 43.96116539\n",
            " 44.01764681 44.07298242 44.12721604 44.18038905 44.23254054 44.2837075\n",
            " 44.33392493 44.38322603 44.4316423  44.47920365 44.52593851 44.57187394\n",
            " 44.6170357  44.66144832 44.70513524 44.74811878 44.7904203  44.83206019\n",
            " 44.87305796 44.91343229 44.95320106 44.9923814  45.03098975 45.06904187\n",
            " 45.10655289 45.14353735 45.18000921 45.2159819  45.25146833 45.28648094\n",
            " 45.3210317  45.35513214 45.38879337 45.42202609 45.45484066 45.48724703\n",
            " 45.51925484 45.55087338 45.58211163 45.61297828 45.64348171 45.67363005\n",
            " 45.70343115 45.7328926  45.76202178 45.7908258  45.81931157 45.84748578\n",
            " 45.87535493 45.9029253  45.93020299 45.95719394]\n"
          ]
        },
        {
          "output_type": "stream",
          "name": "stderr",
          "text": [
            "/usr/local/lib/python3.7/dist-packages/ipykernel_launcher.py:3: RuntimeWarning: divide by zero encountered in log10\n",
            "  This is separate from the ipykernel package so we can avoid doing imports until\n"
          ]
        }
      ]
    },
    {
      "cell_type": "code",
      "metadata": {
        "id": "7CwuGpk52MMy",
        "colab": {
          "base_uri": "https://localhost:8080/"
        },
        "outputId": "3b38dfd1-8aa5-432b-b276-e0919381667e"
      },
      "source": [
        "cd /content/drive/MyDrive/Proyecto_Inv/Datos_Supernovas"
      ],
      "execution_count": null,
      "outputs": [
        {
          "output_type": "stream",
          "name": "stdout",
          "text": [
            "[Errno 2] No such file or directory: '/content/drive/MyDrive/Proyecto_Inv/Datos_Supernovas'\n",
            "/content\n"
          ]
        }
      ]
    },
    {
      "cell_type": "markdown",
      "metadata": {
        "id": "9DTwHBUISXgn"
      },
      "source": [
        "A continuación, leemos los datos provenientes de ficheros que contienen información real de mu(Módulo de la Distancia) a un determinado z(Redshift),  junto con el error asociado\n"
      ]
    },
    {
      "cell_type": "code",
      "metadata": {
        "id": "Iu_X8WtzDG1i"
      },
      "source": [
        "################################################\n",
        "######          BETOULE ET AL.              ####\n",
        "################################################\n",
        "\n",
        "# Leemos los datos de supernovas Ia de JLA\n",
        "data=np.loadtxt(\"betoule_sn.txt\",delimiter=' ',usecols=np.arange(4),skiprows=1)\n",
        "# reds\n",
        "reds=data[:,1]\n",
        "# Mu \n",
        "Mu=data[:,2]\n",
        "# mu error\n",
        "muerr=data[:,3]\n",
        "\n",
        "################################################\n",
        "####                SN DES Y3               ####\n",
        "################################################\n",
        "\n",
        "# Leemos los datos de las supernovas sn_DES_Y3\n",
        "# data2=np.loadtxt(\"sn_DES_Y3.txt\",delimiter=' ',usecols=np.arange(4),skiprows=2)\n",
        "data2=np.genfromtxt(\"sn_DES_Y3.txt\",delimiter=' ',usecols=np.arange(4),skip_header=2)\n",
        "#reds2\n",
        "reds2=data2[:,1]\n",
        "# # mb\n",
        "mb=data2[:,2]\n",
        "# mu error 2 \n",
        "muerr2=data2[:,3]\n",
        "\n",
        "#Añadimos el valor añadido para obtener el módulo de la distacia(Mu2) correcto\n",
        "Mu2= mb + 19.35\n",
        "\n",
        "#################################################\n",
        "######              PANSTARRS               #####\n",
        "#################################################\n",
        "\n",
        "#Leemos los datos de las supernovas hlsp_ps1cosmo_panstarrs_gpc1_all_model_v1_lcparam-full\n",
        "\n",
        "# data3=np.loadtxt(\"hlsp_ps1cosmo_panstarrs_gpc1_all_model_v1_lcparam-full.txt\",delimiter=' ',usecols=np.arange(6),skiprows=1)\n",
        "data3=np.genfromtxt (\"hlsp_ps1cosmo_panstarrs_gpc1_all_model_v1_lcparam-full.txt\", delimiter=' ',usecols=np.arange(6), skip_header=1)\n",
        "#reds3\n",
        "reds3=data3[:,1]\n",
        "#zhel\n",
        "zhel=data3[:,2]\n",
        "#dz\n",
        "dz=data3[:,3]\n",
        "#mb2\n",
        "mb2=data3[:,4]\n",
        "#muerr3\n",
        "muerr3=data3[:,5]\n",
        "\n",
        "#Añadimos el valor añadido para obtener el módulo de la distacia(Mu3) correcto\n",
        "Mu3=mb2 + 19.35"
      ],
      "execution_count": 46,
      "outputs": []
    },
    {
      "cell_type": "code",
      "metadata": {
        "id": "AJWjR_f7gaXe"
      },
      "source": [
        "print(Mu3)"
      ],
      "execution_count": null,
      "outputs": []
    },
    {
      "cell_type": "code",
      "metadata": {
        "id": "GIL-28NHGFen"
      },
      "source": [
        "z = np.linspace(0,2,100)"
      ],
      "execution_count": 44,
      "outputs": []
    },
    {
      "cell_type": "markdown",
      "metadata": {
        "id": "Jy_a9lwI10OL"
      },
      "source": [
        "Calculamos el módulo de la distancia  para los diferentes modelos cosmológicos ya planteados"
      ]
    },
    {
      "cell_type": "code",
      "metadata": {
        "id": "K3xV5MeVagYV",
        "colab": {
          "base_uri": "https://localhost:8080/",
          "height": 454
        },
        "outputId": "3cb930de-3e60-44ad-d87e-f62198980948"
      },
      "source": [
        "plt.figure()\n",
        "# plt.plot(z, mu(RH=c/H, z=np.linspace(0, 2, 100), H=70, Am=0.3, Ar=0.0, AeO=0.7), label= 'λCDM')\n",
        "plt.plot(z, mu(RH=c/H, z=np.linspace(0, 2, 100), H=70, Am=0.3, Ar=0.0, AeO=0.7), label= '$\\Lambda$CDM')\n",
        "# plt.plot(z, mu(RH=c/H, z=np.linspace(0, 2, 100), H=70, Am=1.0, Ar=0.0, AeO=0.0), label= 'EDS')\n",
        "plt.plot(z, mu(RH=c/H, z=np.linspace(0, 2, 100), H=70, Am=1.0, Ar=0.0, AeO=0.0), label= 'Einstein - De Sitter')\n",
        "plt.plot(z, mu(RH=c/H, z=np.linspace(0, 2, 100), H=70, Am=0.3, Ar=0.0, AeO=0.0), label= '30% Materia')\n",
        "plt.plot(z, mu(RH=c/H, z=np.linspace(0, 2, 100), H=70, Am=0.0, Ar=0.0, AeO=1.0), label= '100% Energía Oscura')\n",
        "plt.plot(z, mu(RH=c/H, z=np.linspace(0, 2, 100), H=70, Am=0.0, Ar=0.0, AeO=0.0), label= 'Universo Vacío')\n",
        "plt.errorbar(reds,Mu,yerr=muerr,fmt='o',ms=1.5,color='b',elinewidth=1.0,capsize=1,label='SN JLA Data')\n",
        "# plt.errorbar(reds3,Mu3,yerr=muerr3,fmt='o',ms=1.5,color='g',elinewidth=1.0,capsize=1,label='hlsp_ps1cosmo_panstarrs_gpc1 Data')\n",
        "# plt.errorbar(reds2,Mu2,yerr=muerr2,fmt='o',ms=1.5,color='k',elinewidth=1.0,capsize=1,label='SN DES_Y3 Data')\n",
        "plt.legend()\n",
        "plt.grid(alpha=0.35,linewidth=1,linestyle='--')\n",
        "plt.xlabel(r'$z$ -- redshift', fontsize = 14)\n",
        "plt.ylabel(r'$\\mu$ -- Módulo de la Distancia', fontsize = 14)\n",
        "# plt.title('Ley de Hubble', fontsize = 14)\n",
        "plt.savefig('Ley De Hubble.png',\n",
        "           format='png',\n",
        "           dpi=200,\n",
        "           transparent=False,\n",
        "            bbox_inches='tight')\n",
        "\n",
        "plt.show()"
      ],
      "execution_count": 52,
      "outputs": [
        {
          "output_type": "stream",
          "name": "stderr",
          "text": [
            "/usr/local/lib/python3.7/dist-packages/ipykernel_launcher.py:3: RuntimeWarning: divide by zero encountered in log10\n",
            "  This is separate from the ipykernel package so we can avoid doing imports until\n",
            "/usr/local/lib/python3.7/dist-packages/ipykernel_launcher.py:3: RuntimeWarning: divide by zero encountered in log10\n",
            "  This is separate from the ipykernel package so we can avoid doing imports until\n",
            "/usr/local/lib/python3.7/dist-packages/ipykernel_launcher.py:3: RuntimeWarning: divide by zero encountered in log10\n",
            "  This is separate from the ipykernel package so we can avoid doing imports until\n",
            "/usr/local/lib/python3.7/dist-packages/ipykernel_launcher.py:3: RuntimeWarning: divide by zero encountered in log10\n",
            "  This is separate from the ipykernel package so we can avoid doing imports until\n",
            "/usr/local/lib/python3.7/dist-packages/ipykernel_launcher.py:3: RuntimeWarning: divide by zero encountered in log10\n",
            "  This is separate from the ipykernel package so we can avoid doing imports until\n"
          ]
        },
        {
          "output_type": "display_data",
          "data": {
            "image/png": "[encoded data removed]",
            "text/plain": [
              "<Figure size 432x288 with 1 Axes>"
            ]
          },
          "metadata": {
            "needs_background": "light"
          }
        }
      ]
    },
    {
      "cell_type": "code",
      "metadata": {
        "colab": {
          "base_uri": "https://localhost:8080/",
          "height": 301
        },
        "id": "-UjvHWXi-jV7",
        "outputId": "40bbb796-c0d9-4cb6-df57-90dc38cc9dda"
      },
      "source": [
        "plt.figure()\n",
        "plt.errorbar(reds3,Mu3,yerr=muerr3,fmt='o',ms=1.5,color='g',elinewidth=1.0,capsize=1,label='hlsp_ps1cosmo_panstarrs_gpc1 Data')\n",
        "plt.legend()\n",
        "plt.grid(alpha=0.35,linewidth=1,linestyle='--')\n",
        "plt.xlabel(r'$z$ -- redshift', fontsize = 14)\n",
        "plt.ylabel(r'$\\mu$ -- Módulo de la Distancia', fontsize = 14)\n",
        "plt.title('Supernovae_Data3', fontsize = 14)\n",
        "plt.savefig('SN panstarrs_gpc1_all_model_v1.png',\n",
        "           format='png',\n",
        "           dpi=200,\n",
        "           transparent=False,\n",
        "            bbox_inches='tight')\n",
        "\n",
        "plt.show()"
      ],
      "execution_count": null,
      "outputs": [
        {
          "output_type": "display_data",
          "data": {
            "image/png": "[encoded data removed]",
            "text/plain": [
              "<Figure size 432x288 with 1 Axes>"
            ]
          },
          "metadata": {
            "needs_background": "light"
          }
        }
      ]
    },
    {
      "cell_type": "markdown",
      "metadata": {
        "id": "d4zhTWiECmW4"
      },
      "source": [
        "Calculamos el parámetro de Hubble para los diferentes modelos cosmológicos ya planteados"
      ]
    },
    {
      "cell_type": "code",
      "metadata": {
        "id": "WjH_RvCrCvVs",
        "colab": {
          "base_uri": "https://localhost:8080/",
          "height": 284
        },
        "outputId": "8ac086c4-cdde-47e2-cb4e-ec4b49c1dcad"
      },
      "source": [
        "plt.figure()\n",
        "# plt.plot(z, par_hubble(z=np.linspace(0, 2, 100), H=70, Am=0.3, Ar=0, AeO=0.7), label= 'λCDM' )\n",
        "plt.plot(z, par_hubble(z=np.linspace(0, 2, 100), H=70, Am=0.3, Ar=0, AeO=0.7), label= '$\\Lambda$CDM' )\n",
        "#plt.plot(z, par_hubble(z=np.linspace(0, 2, 100), H=70, Am=1.0, Ar=0, AeO=0.0), label= 'EDS' )\n",
        "plt.plot(z, par_hubble(z=np.linspace(0, 2, 100), H=70, Am=1.0, Ar=0, AeO=0.0), label= 'Einstein - De Sitter' )\n",
        "plt.plot(z, par_hubble(z=np.linspace(0, 2, 100), H=70, Am=0.3, Ar=0, AeO=0.0), label= '30% Materia' )\n",
        "plt.plot(z, par_hubble(z=np.linspace(0, 2, 100), H=70, Am=0.0, Ar=0, AeO=1.0), label= '100% Energía Oscura' )\n",
        "plt.plot(z, par_hubble(z=np.linspace(0, 2, 100), H=70, Am=0.0, Ar=0, AeO=0.0), label= 'Universo Vacío' )\n",
        "plt.legend()\n",
        "plt.grid(alpha=0.35,linewidth=1,linestyle='--')\n",
        "plt.xlabel(r'$z$ -- redshift', fontsize = 14)\n",
        "plt.ylabel(r'$H$ -- Parámetro de Hubble ', fontsize = 14)\n",
        "# plt.title('Parámetro de Hubble', fontsize = 14)\n",
        "plt.savefig('Parámetro de Hubble.png',\n",
        "           format='png',\n",
        "           dpi=200,\n",
        "           transparent=False,\n",
        "            bbox_inches='tight')\n",
        "plt.show()\n"
      ],
      "execution_count": 55,
      "outputs": [
        {
          "output_type": "display_data",
          "data": {
            "image/png": "[encoded data removed]",
            "text/plain": [
              "<Figure size 432x288 with 1 Axes>"
            ]
          },
          "metadata": {
            "needs_background": "light"
          }
        }
      ]
    },
    {
      "cell_type": "markdown",
      "metadata": {
        "id": "NIipCOc-7-Ez"
      },
      "source": [
        "Calculamos la distancia radial comóvil para los diferentes modelos cosmológicos previamente planteados"
      ]
    },
    {
      "cell_type": "code",
      "metadata": {
        "id": "vE9yp1HS8Hiv",
        "colab": {
          "base_uri": "https://localhost:8080/",
          "height": 284
        },
        "outputId": "931ab895-ab93-40a4-f212-cba0272255bd"
      },
      "source": [
        "plt.figure()\n",
        "# plt.plot(z, dist_comovil(z=np.linspace(0, 2,100), H=70,Am=0.3,Ar=0.0,AeO=0.7), label= 'λCDM')\n",
        "plt.plot(z, dist_comovil(z=np.linspace(0, 2,100), H=70,Am=0.3,Ar=0.0,AeO=0.7), label= '$\\Lambda$CDM')\n",
        "# plt.plot(z, dist_comovil(z=np.linspace(0, 2,100), H=70,Am=1.0,Ar=0.0,AeO=0.0), label=  'EDS')\n",
        "plt.plot(z, dist_comovil(z=np.linspace(0, 2,100), H=70,Am=1.0,Ar=0.0,AeO=0.0), label=  'Einstein - De Sitter')\n",
        "# plt.plot(z, dist_comovil(z=np.linspace(0, 2,100), H=70,Am=0.3,Ar=0.0,AeO=0.7), label= '30% Materia')\n",
        "# plt.plot(z, dist_comovil(z=np.linspace(0, 2,100), H=70,Am=0.3,Ar=0.0,AeO=0.7), label= '100% Energía Oscura')\n",
        "# plt.plot(z, dist_comovil(z=np.linspace(0, 2,100), H=70,Am=0.3,Ar=0.0,AeO=0.7), label= 'Universo Vacío')\n",
        "\n",
        "plt.legend()\n",
        "plt.grid(alpha=0.35,linewidth=1,linestyle='--')\n",
        "plt.xlabel(r'$z$ -- redshift', fontsize = 14)\n",
        "plt.ylabel('Distancia Comóvil (Mpc)', fontsize = 14)\n",
        "# plt.title('Distancia Radial Comóvil', fontsize = 14)\n",
        "plt.savefig('Distancia Comóvil.png',\n",
        "           format='png',\n",
        "           dpi=200,\n",
        "           transparent=False,\n",
        "            bbox_inches='tight')\n",
        "plt.show()\n"
      ],
      "execution_count": 63,
      "outputs": [
        {
          "output_type": "display_data",
          "data": {
            "image/png": "[encoded data removed]",
            "text/plain": [
              "<Figure size 432x288 with 1 Axes>"
            ]
          },
          "metadata": {
            "needs_background": "light"
          }
        }
      ]
    },
    {
      "cell_type": "markdown",
      "metadata": {
        "id": "qIGPyOV3nL0z"
      },
      "source": [
        "# Ajuste de los datos de supernovas tipo Ia"
      ]
    },
    {
      "cell_type": "markdown",
      "metadata": {
        "id": "cr02HwyUnQxh"
      },
      "source": [
        "Podemos calcular qué parametros cosmológicos generan un modelo que describe mejor los datos que tenemos de supernovas. Para ello podemos seguir el proceso de **minimización de mínimos cuadrados**, que esquemáticamente consiste en:\n",
        "\n",
        "\n",
        "*   Para un determinado valor de un parámetro cosmológico, por ejemplo $\\Omega_\\Lambda$ = 0.5 calculamos el módulo de distancia\n",
        "*   Calculamos el $\\chi^2$ según la ecuación \n",
        "\n",
        "    $\\chi^2 = \\frac{datos - modelo}{error^2}$\n",
        "\n",
        "* Guardamos el valor del $\\chi^2$ que arroja comparar los datos con el módulo de distancia evaluado en $\\Omega_\\Lambda = 0.5$.\n",
        "\n",
        "* Repetimos el proceso para un conjunto de valores del parámetro que queremos inferir\n",
        "\n"
      ]
    },
    {
      "cell_type": "code",
      "metadata": {
        "id": "7R4jsTIxooXf"
      },
      "source": [
        "# Leemos los datos de supernovas Ia de JLA\n",
        "data=np.loadtxt(\"betoule_sn.txt\",delimiter=' ',usecols=np.arange(4),skiprows=1)\n",
        "# reds\n",
        "reds=data[:,1]\n",
        "# Mu \n",
        "Mu=data[:,2]\n",
        "# mu error\n",
        "muerr=data[:,3]"
      ],
      "execution_count": null,
      "outputs": []
    },
    {
      "cell_type": "code",
      "metadata": {
        "id": "_TipYh1CoogX"
      },
      "source": [
        "# Generamos arrays para el parámetro cosmológico y para el Chi^2\n",
        "Ol = np.zeros(500)\n",
        "chi2 = np.zeros(500)"
      ],
      "execution_count": null,
      "outputs": []
    },
    {
      "cell_type": "code",
      "metadata": {
        "id": "J--5iJ9-EKja"
      },
      "source": [
        "import numpy as np"
      ],
      "execution_count": null,
      "outputs": []
    },
    {
      "cell_type": "code",
      "metadata": {
        "id": "b7qBGw31ooi9",
        "colab": {
          "base_uri": "https://localhost:8080/"
        },
        "outputId": "1e01fce7-7641-4828-c46b-3f29863ac965"
      },
      "source": [
        "# Calculamos el valor del Chi^2 para los diferentes valores de Omega Lambda\n",
        "for i in np.arange(500):\n",
        "  # print(i)\n",
        "  Ol[i] = 0.05 + i*0.95/300\n",
        "  # print(r'En esta iteración $\\Omega_\\Lambda = ${}'.format(Ol[i]))\n",
        "  # chi2[i] = np.sum((Mu-25-5*np.log10(mu(Ak=0, RH=c/H, z=np.linspace(0, 2, 100), H=70, Am=0.3, Ar=0.0, AeO=0.7)))**2/muerr**2)\n",
        "  chi2[i] = np.sum((Mu-mu(RH=c/H, z=reds, H=70, Am=1-Ol[i], Ar=0.0, AeO=Ol[i]))**2/muerr**2) "
      ],
      "execution_count": null,
      "outputs": [
        {
          "output_type": "stream",
          "name": "stderr",
          "text": [
            "/usr/local/lib/python3.7/dist-packages/ipykernel_launcher.py:14: RuntimeWarning: invalid value encountered in sqrt\n",
            "  \n",
            "/usr/local/lib/python3.7/dist-packages/ipykernel_launcher.py:10: RuntimeWarning: invalid value encountered in sqrt\n",
            "  # Remove the CWD from sys.path while we load stuff.\n",
            "/usr/local/lib/python3.7/dist-packages/ipykernel_launcher.py:15: IntegrationWarning: The occurrence of roundoff error is detected, which prevents \n",
            "  the requested tolerance from being achieved.  The error may be \n",
            "  underestimated.\n",
            "  from ipykernel import kernelapp as app\n"
          ]
        }
      ]
    },
    {
      "cell_type": "code",
      "metadata": {
        "id": "ie9Se772eVqa"
      },
      "source": [
        "import seaborn as sns"
      ],
      "execution_count": null,
      "outputs": []
    },
    {
      "cell_type": "code",
      "metadata": {
        "id": "OIA0cYpKeZuc"
      },
      "source": [
        "sns.heatmap(chi2)"
      ],
      "execution_count": null,
      "outputs": []
    },
    {
      "cell_type": "code",
      "metadata": {
        "id": "sWFxcOmSool_"
      },
      "source": [
        "# Buscamos el mínimo\n",
        "ind=list(chi2).index(min(chi2))\n",
        "chi2_min=chi2[ind]    \n",
        "Ol_min=Ol[ind]"
      ],
      "execution_count": null,
      "outputs": []
    },
    {
      "cell_type": "code",
      "metadata": {
        "colab": {
          "base_uri": "https://localhost:8080/"
        },
        "id": "wGzmk9i-P-AQ",
        "outputId": "96d7718d-8db3-4635-c9cf-5e9604fd9b22"
      },
      "source": [
        "print(Ol_min)"
      ],
      "execution_count": null,
      "outputs": [
        {
          "output_type": "stream",
          "name": "stdout",
          "text": [
            "0.7023333333333334\n"
          ]
        }
      ]
    },
    {
      "cell_type": "code",
      "metadata": {
        "id": "b-Jn9xa7oooj"
      },
      "source": [
        "# Calculamos el error asociado a la estimación\n",
        "error=0.0\n",
        "for ie in np.arange(500):\n",
        "    if ( np.abs(chi2[ie]-chi2_min-1)<0.15): # 0.15 es un valor ajustado a mano\n",
        "       \n",
        "        error=np.abs(Ol[ie]-Ol_min)"
      ],
      "execution_count": null,
      "outputs": []
    },
    {
      "cell_type": "code",
      "metadata": {
        "id": "uAFlzaJvQNSS"
      },
      "source": [
        "chi2"
      ],
      "execution_count": null,
      "outputs": []
    },
    {
      "cell_type": "code",
      "metadata": {
        "id": "-RySw1Zdooro",
        "colab": {
          "base_uri": "https://localhost:8080/"
        },
        "outputId": "a5bd6f3f-5608-46e3-85aa-bfb02e6bcdc6"
      },
      "source": [
        "print('(JLA) Best fit values Omega_Lambda: {0} +/- {1}'.format(round(Ol_min,3),round(error,3)))"
      ],
      "execution_count": null,
      "outputs": [
        {
          "output_type": "stream",
          "name": "stdout",
          "text": [
            "Best fit values Omega_Lambda: 0.702 +/- 0.016\n"
          ]
        }
      ]
    },
    {
      "cell_type": "code",
      "metadata": {
        "id": "9lsT0-txoo4L",
        "colab": {
          "base_uri": "https://localhost:8080/",
          "height": 288
        },
        "outputId": "10c53b6d-a642-434d-bcbe-c8e5231ecbab"
      },
      "source": [
        "\"\"\" Plotting Chi-2 \"\"\"\n",
        "plt.figure(figsize=(4,4))\n",
        "plt.plot(Ol,chi2-chi2_min)\n",
        "plt.xlabel(r'$\\Omega_{\\Lambda}$',fontsize=13)\n",
        "plt.ylabel(r'$\\Delta \\chi^2 = \\chi^2 - \\chi_{min}^2$',fontsize=13)\n",
        "plt.xlim([0.6,0.8])\n",
        "plt.ylim([0,5])\n",
        "plt.grid(alpha=0.35,linewidth=1,linestyle='--')\n",
        "plt.hlines(y=1,xmin=0.6,xmax=0.8,linestyles='dashed',alpha=0.5)\n",
        "plt.text(0.605,0.12,s=r'$\\Omega_\\Lambda=${0}$\\pm${1}'.format(round(Ol_min,3),round(error,3)))\n",
        "plt.savefig(os.path.join('sn_chi2.png'),\n",
        "            format='png',\n",
        "            dpi=200,\n",
        "            transparent=False,\n",
        "            bbox_inches='tight')\n",
        "plt.show()"
      ],
      "execution_count": null,
      "outputs": [
        {
          "output_type": "display_data",
          "data": {
            "image/png": "[encoded data removed]",
            "text/plain": [
              "<Figure size 288x288 with 1 Axes>"
            ]
          },
          "metadata": {
            "tags": [],
            "needs_background": "light"
          }
        }
      ]
    },
    {
      "cell_type": "markdown",
      "metadata": {
        "id": "u1ZQzl42lczo"
      },
      "source": [
        "Repetimos el cálculo considerando los datos de supernovas Ia de PanStarrs\n"
      ]
    },
    {
      "cell_type": "code",
      "metadata": {
        "id": "01d40SvJlk-b"
      },
      "source": [
        "data3=np.genfromtxt (\"hlsp_ps1cosmo_panstarrs_gpc1_all_model_v1_lcparam-full.txt\", delimiter=' ',usecols=np.arange(6), skip_header=1)\n",
        "#reds3\n",
        "reds=data3[:,1]\n",
        "#mb2\n",
        "mb2=data3[:,4]\n",
        "#muerr3\n",
        "muerr=data3[:,5]\n",
        "\n",
        "#Añadimos el valor añadido para obtener el módulo de la distacia(Mu3) correcto\n",
        "Mu=mb2 + 19.35"
      ],
      "execution_count": 64,
      "outputs": []
    },
    {
      "cell_type": "code",
      "metadata": {
        "id": "f45cOwBLmZgt"
      },
      "source": [
        "# Generamos arrays para el parámetro cosmológico y para el Chi^2\n",
        "Ol = np.zeros(500)\n",
        "chi2 = np.zeros(500)"
      ],
      "execution_count": 65,
      "outputs": []
    },
    {
      "cell_type": "code",
      "metadata": {
        "colab": {
          "base_uri": "https://localhost:8080/"
        },
        "id": "iQWcdFgzmhQ6",
        "outputId": "2464c2b8-446e-4e3e-ab80-73b574eb6f84"
      },
      "source": [
        "# Calculamos el valor del Chi^2 para los diferentes valores de Omega Lambda\n",
        "for i in np.arange(500):\n",
        "  # print(i)\n",
        "  Ol[i] = 0.05 + i*0.95/300\n",
        "  # print(r'En esta iteración $\\Omega_\\Lambda = ${}'.format(Ol[i]))\n",
        "  # chi2[i] = np.sum((Mu-25-5*np.log10(mu(Ak=0, RH=c/H, z=np.linspace(0, 2, 100), H=70, Am=0.3, Ar=0.0, AeO=0.7)))**2/muerr**2)\n",
        "  chi2[i] = np.sum((Mu-mu(RH=c/H, z=reds, H=70, Am=1-Ol[i], Ar=0.0, AeO=Ol[i]))**2/muerr**2) "
      ],
      "execution_count": 66,
      "outputs": [
        {
          "output_type": "stream",
          "name": "stderr",
          "text": [
            "/usr/local/lib/python3.7/dist-packages/ipykernel_launcher.py:14: RuntimeWarning: invalid value encountered in sqrt\n",
            "  \n",
            "/usr/local/lib/python3.7/dist-packages/ipykernel_launcher.py:10: RuntimeWarning: invalid value encountered in sqrt\n",
            "  # Remove the CWD from sys.path while we load stuff.\n",
            "/usr/local/lib/python3.7/dist-packages/ipykernel_launcher.py:15: IntegrationWarning: The occurrence of roundoff error is detected, which prevents \n",
            "  the requested tolerance from being achieved.  The error may be \n",
            "  underestimated.\n",
            "  from ipykernel import kernelapp as app\n"
          ]
        }
      ]
    },
    {
      "cell_type": "code",
      "metadata": {
        "id": "FbNs76E1miJ7"
      },
      "source": [
        "# Buscamos el mínimo\n",
        "ind=list(chi2).index(min(chi2))\n",
        "chi2_min=chi2[ind]    \n",
        "Ol_min=Ol[ind]"
      ],
      "execution_count": 67,
      "outputs": []
    },
    {
      "cell_type": "code",
      "metadata": {
        "id": "g2sjgNTTmpfa"
      },
      "source": [
        "# Calculamos el error asociado a la estimación\n",
        "error=0.0\n",
        "for ie in np.arange(500):\n",
        "    if ( np.abs(chi2[ie]-chi2_min-1)<0.18): # 0.15 es un valor ajustado a mano\n",
        "       \n",
        "        error=np.abs(Ol[ie]-Ol_min)"
      ],
      "execution_count": 73,
      "outputs": []
    },
    {
      "cell_type": "code",
      "metadata": {
        "colab": {
          "base_uri": "https://localhost:8080/"
        },
        "id": "uUIs6rlJmt3t",
        "outputId": "5f129c04-cd62-4721-fc54-314126931f5c"
      },
      "source": [
        "print('(PanStarrs) Best fit values Omega_Lambda: {0} +/- {1}'.format(round(Ol_min,3),round(error,3)))"
      ],
      "execution_count": 74,
      "outputs": [
        {
          "output_type": "stream",
          "name": "stdout",
          "text": [
            "(PanStarrs) Best fit values Omega_Lambda: 0.709 +/- 0.006\n"
          ]
        }
      ]
    },
    {
      "cell_type": "code",
      "metadata": {
        "colab": {
          "base_uri": "https://localhost:8080/",
          "height": 288
        },
        "id": "27DXj82umygG",
        "outputId": "aaba1e11-9dcd-45e7-a970-29dd78cd6f65"
      },
      "source": [
        "\"\"\" Plotting Chi-2 \"\"\"\n",
        "plt.figure(figsize=(4,4))\n",
        "plt.plot(Ol,chi2-chi2_min)\n",
        "plt.xlabel(r'$\\Omega_{\\Lambda}$',fontsize=13)\n",
        "plt.ylabel(r'$\\Delta \\chi^2 = \\chi^2 - \\chi_{min}^2$',fontsize=13)\n",
        "plt.xlim([0.6,0.8])\n",
        "plt.ylim([0,5])\n",
        "plt.grid(alpha=0.35,linewidth=1,linestyle='--')\n",
        "plt.hlines(y=1,xmin=0.6,xmax=0.8,linestyles='dashed',alpha=0.5)\n",
        "plt.text(0.605,0.12,s=r'$\\Omega_\\Lambda=${0}$\\pm${1}'.format(round(Ol_min,3),round(error,3)))\n",
        "plt.savefig(os.path.join('sn_chi2_panstarrs.png'),\n",
        "            format='png',\n",
        "            dpi=200,\n",
        "            transparent=False,\n",
        "            bbox_inches='tight')\n",
        "plt.show()"
      ],
      "execution_count": 75,
      "outputs": [
        {
          "output_type": "display_data",
          "data": {
            "image/png": "[encoded data removed]",
            "text/plain": [
              "<Figure size 288x288 with 1 Axes>"
            ]
          },
          "metadata": {
            "needs_background": "light"
          }
        }
      ]
    },
    {
      "cell_type": "code",
      "metadata": {
        "id": "N1C9WQvjobM9"
      },
      "source": [
        ""
      ],
      "execution_count": null,
      "outputs": []
    }
  ]
}