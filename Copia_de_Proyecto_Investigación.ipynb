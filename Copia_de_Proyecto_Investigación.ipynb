{
  "nbformat": 4,
  "nbformat_minor": 0,
  "metadata": {
    "colab": {
      "name": "Copia de Proyecto Investigación.ipynb",
      "provenance": [],
      "collapsed_sections": [],
      "include_colab_link": true
    },
    "kernelspec": {
      "display_name": "Python 3",
      "name": "python3"
    }
  },
  "cells": [
    {
      "cell_type": "markdown",
      "metadata": {
        "id": "view-in-github",
        "colab_type": "text"
      },
      "source": [
        "<a href=\"https://colab.research.google.com/github/davsan06/Cosmo_with_Supernovae_Ia/blob/main/Copia_de_Proyecto_Investigaci%C3%B3n.ipynb\" target=\"_parent\"><img src=\"https://colab.research.google.com/assets/colab-badge.svg\" alt=\"Open In Colab\"/></a>"
      ]
    },
    {
      "cell_type": "code",
      "metadata": {
        "id": "kTiJWTCsuLzE"
      },
      "source": [
        "#Variables \n",
        "# C = Velocidad de la luz\n",
        "# Mpc = Valor de 1 MegaPársec\n",
        "# H = Constante de Hubble\n",
        "# RH = Radio de HUbble\n",
        "# Am = Abundancia de materia\n",
        "# Ar = Abundancia de radiación\n",
        "# AeO = Abundancia de energía oscura\n",
        "# w = Constante de Barotropía\n",
        "# z = redshift\n",
        "# Hz = Parámetro de Hubble\n",
        "# AK = Abundancia de curvatura\n",
        "# X(z) = Distancia comóvil"
      ],
      "execution_count": null,
      "outputs": []
    },
    {
      "cell_type": "code",
      "metadata": {
        "colab": {
          "base_uri": "https://localhost:8080/"
        },
        "id": "9IUg4mUQgBHA",
        "outputId": "2da50f04-3acd-46b3-b3d6-daddd5ffedc8"
      },
      "source": [
        "from google.colab import drive\n",
        "drive.mount('/content/drive')"
      ],
      "execution_count": null,
      "outputs": [
        {
          "output_type": "stream",
          "name": "stdout",
          "text": [
            "Mounted at /content/drive\n"
          ]
        }
      ]
    },
    {
      "cell_type": "code",
      "metadata": {
        "id": "dud6ENSB7bPo"
      },
      "source": [
        "import numpy as np\n",
        "import matplotlib.pyplot as plt\n",
        "import scipy.integrate as sci\n",
        "import os"
      ],
      "execution_count": 1,
      "outputs": []
    },
    {
      "cell_type": "code",
      "metadata": {
        "id": "KMV1e8OLw4aV"
      },
      "source": [
        "Mpc = 3.086*10**22\n",
        "c = 2.99792e5\n",
        "H = 70\n",
        "RH = c/H\n",
        "Am = 0.3\n",
        "Ar = 9*10**-5\n",
        "AeO = 0.7\n",
        "Ak = 0"
      ],
      "execution_count": 2,
      "outputs": []
    },
    {
      "cell_type": "code",
      "metadata": {
        "id": "rE215MDXMUwS",
        "colab": {
          "base_uri": "https://localhost:8080/"
        },
        "outputId": "3e93b56d-260a-42b0-bc96-1b684bf18bf7"
      },
      "source": [
        "print(RH)"
      ],
      "execution_count": 3,
      "outputs": [
        {
          "output_type": "stream",
          "name": "stdout",
          "text": [
            "4282.742857142857\n"
          ]
        }
      ]
    },
    {
      "cell_type": "code",
      "metadata": {
        "id": "AQUMpgX_Nn1C"
      },
      "source": [
        "def par_hubble(z,H,Am,Ar,AeO,w):\n",
        "\n",
        "  # La abundancia de curvatura esta ligada por\n",
        "  Ak = 1- Am - AeO\n",
        "  c = H*np.sqrt(Ar*(1+z)**4 + Am*(1+z)**3 + Ak*(1+z)**2 + AeO*(1+z)**(3*(1+w)))\n",
        "\n",
        "  return(c)"
      ],
      "execution_count": 4,
      "outputs": []
    },
    {
      "cell_type": "markdown",
      "metadata": {
        "id": "tXOOMOt87h55"
      },
      "source": [
        "Comprobación: recuperamos la constante de Hubble introducida. A redshift z=0 el parámetro de Hubble es lo que conocemos como la constante de Hubble."
      ]
    },
    {
      "cell_type": "code",
      "metadata": {
        "colab": {
          "base_uri": "https://localhost:8080/"
        },
        "id": "QJw64xtdBBE0",
        "outputId": "8949b9b8-a7f9-4353-dc70-bef5f31b43c1"
      },
      "source": [
        "print(par_hubble(z=0, H=70, Am=0.3, Ar=0, AeO=0.7, w=-1))"
      ],
      "execution_count": 5,
      "outputs": [
        {
          "output_type": "stream",
          "name": "stdout",
          "text": [
            "70.0\n"
          ]
        }
      ]
    },
    {
      "cell_type": "code",
      "metadata": {
        "colab": {
          "base_uri": "https://localhost:8080/"
        },
        "id": "TjIOuz9HB7d9",
        "outputId": "f48a9eac-6ac4-46bb-fe40-7f461303580b"
      },
      "source": [
        "#Parámetro de Hubble en el Modelo Cosmológico Estandar\n",
        "print(par_hubble(z=np.linspace(0, 2, 100), H=70, Am=0.3, Ar=0, AeO=0.7, w=-1))"
      ],
      "execution_count": 7,
      "outputs": [
        {
          "output_type": "stream",
          "name": "stdout",
          "text": [
            "[ 70.          70.64632224  71.31253777  71.99859939  72.70444537\n",
            "  73.43000035  74.17517616  74.93987267  75.72397867  76.52737267\n",
            "  77.34992373  78.19149228  79.05193091  79.93108511  80.82879402\n",
            "  81.74489116  82.67920506  83.63155994  84.60177632  85.5896716\n",
            "  86.59506062  87.61775614  88.65756938  89.71431043  90.78778868\n",
            "  91.8778132   92.98419314  94.106738    95.24525799  96.39956426\n",
            "  97.56946919  98.7547866   99.95533193 101.17092248 102.40137751\n",
            " 103.64651845 104.90616894 106.18015505 107.46830527 108.77045066\n",
            " 110.08642487 111.41606425 112.75920783 114.11569742 115.48537755\n",
            " 116.86809558 118.26370166 119.67204869 121.09299242 122.52639134\n",
            " 123.97210671 125.43000252 126.89994551 128.38180506 129.87545326\n",
            " 131.38076476 132.89761686 134.42588934 135.96546455 137.51622726\n",
            " 139.07806467 140.65086636 142.23452425 143.82893253 145.43398764\n",
            " 147.0495882  148.67563501 150.31203093 151.9586809  153.61549187\n",
            " 155.28237275 156.95923437 158.64598943 160.34255247 162.04883982\n",
            " 163.76476954 165.4902614  167.22523684 168.96961891 170.72333225\n",
            " 172.48630304 174.25845896 176.03972916 177.83004421 179.6293361\n",
            " 181.43753816 183.25458504 185.08041269 186.91495833 188.75816038\n",
            " 190.60995848 192.47029344 194.33910718 196.21634274 198.10194426\n",
            " 199.9958569  201.89802688 203.80840138 205.72692859 207.65355764]\n"
          ]
        }
      ]
    },
    {
      "cell_type": "code",
      "metadata": {
        "id": "6NIasMosCOFn"
      },
      "source": [
        "import matplotlib.pyplot as plt"
      ],
      "execution_count": 8,
      "outputs": []
    },
    {
      "cell_type": "code",
      "metadata": {
        "id": "4N9yc7eW78rm"
      },
      "source": [
        " z=np.linspace(0, 2, 100)"
      ],
      "execution_count": 9,
      "outputs": []
    },
    {
      "cell_type": "code",
      "metadata": {
        "id": "WCxDFwtgCbFE",
        "colab": {
          "base_uri": "https://localhost:8080/",
          "height": 265
        },
        "outputId": "e29a220c-66f4-4772-f9bf-4cbaf9fea4e6"
      },
      "source": [
        "#Graficamos el parámetro de Hubble en el Módelo Cosmológico Estándar, con un redshift  formado por un array de 0 a 2 con 100 puntos \n",
        "\n",
        "plt.figure()\n",
        "plt.plot(z, par_hubble(z=np.linspace(0, 2, 100), H=70, Am=0.3, Ar=0, AeO=0.7, w=-1), label= 'λCDM' )\n",
        "plt.show()\n"
      ],
      "execution_count": 10,
      "outputs": [
        {
          "output_type": "display_data",
          "data": {
            "image/png": "[encoded data removed]",
            "text/plain": [
              "<Figure size 432x288 with 1 Axes>"
            ]
          },
          "metadata": {
            "needs_background": "light"
          }
        }
      ]
    },
    {
      "cell_type": "code",
      "metadata": {
        "id": "1ymuNuNEFk7T"
      },
      "source": [
        "def dist_comovil(z,H,Am,Ar,AeO,w):\n",
        "\n",
        "  # La abundancia de curvatura esta ligada por\n",
        "  Ak = 1- Am - AeO\n",
        "\n",
        "  # Definimos el integrando de la ecuación de la distancia comóvil\n",
        "  def E(z):\n",
        "    \n",
        "    # return H/np.sqrt(Ar*(1+z)**4 + Am*(1+z)**3 + Ak*(1+z)**2 + AeO)\n",
        "    return 1/np.sqrt(Ar*(1+z)**4 + Am*(1+z)**3 + Ak*(1+z)**2 + AeO*(1+z)**(3*(1+w)))\n",
        "\n",
        "  Chi=np.zeros_like(z)\n",
        "\n",
        "  for i in np.arange(len(z)):\n",
        "      Chi[i]=RH*sci.quad(E,0,z[i])[0]\n",
        "\n",
        "  return Chi"
      ],
      "execution_count": 11,
      "outputs": []
    },
    {
      "cell_type": "code",
      "metadata": {
        "id": "QOaVWm4AImtO",
        "colab": {
          "base_uri": "https://localhost:8080/"
        },
        "outputId": "a6b7e6b8-a480-40c3-e559-3a727f6ed57f"
      },
      "source": [
        "print(dist_comovil(z=np.linspace(0,2, 100), H=70,Am=0.3,Ar=0.0,AeO=0.7, w=-1))"
      ],
      "execution_count": 12,
      "outputs": [
        {
          "output_type": "stream",
          "name": "stdout",
          "text": [
            "[   0.           86.1251043   171.45390748  255.97755328  339.68816013\n",
            "  422.57881101  504.64353927  585.87731097  666.27600402  745.83638438\n",
            "  824.55607979  902.43355124  979.46806268 1055.65964913 1131.00908356\n",
            " 1205.51784291 1279.18807335 1352.02255526 1424.02466791 1495.19835434\n",
            " 1565.54808634 1635.07882993 1703.79601144 1771.70548421 1838.81349617\n",
            " 1905.12665833 1970.6519143  2035.39651081 2099.36796942 2162.57405936\n",
            " 2225.02277157 2286.72229389 2347.68098758 2407.90736489 2467.41006795\n",
            " 2526.19784881 2584.27955058 2641.66408982 2698.36043991 2754.37761558\n",
            " 2809.72465845 2864.41062354 2918.44456677 2971.83553337 3024.59254716\n",
            " 3076.72460068 3128.24064611 3179.14958692 3229.46027027 3279.18148009\n",
            " 3328.32193076 3376.89026142 3424.89503081 3472.34471273 3519.24769188\n",
            " 3565.61226023 3611.44661383 3656.75885    3701.5569649  3745.84885148\n",
            " 3789.64229771 3832.94498513 3875.76448773 3918.108271   3959.98369126\n",
            " 4001.39799524 4042.35831984 4082.87169202 4122.94502895 4162.58513824\n",
            " 4201.7987184  4240.5923593  4278.97254286 4316.94564381 4354.5179305\n",
            " 4391.69556588 4428.48460848 4464.89101349 4500.92063391 4536.57922174\n",
            " 4571.87242919 4606.80581001 4641.38482075 4675.61482215 4709.50108044\n",
            " 4743.04876881 4776.26296876 4809.1486715  4841.71077945 4873.95410757\n",
            " 4905.88338489 4937.50325586 4968.81828184 4999.83294251 5030.55163728\n",
            " 5060.97868671 5091.11833393 5120.974746   5150.55201533 5179.85416101]\n"
          ]
        }
      ]
    },
    {
      "cell_type": "code",
      "metadata": {
        "colab": {
          "base_uri": "https://localhost:8080/",
          "height": 301
        },
        "id": "8Ix8n83sJvTl",
        "outputId": "64760c67-491e-4915-cde2-c4bc3c6f59dc"
      },
      "source": [
        "plt.figure()\n",
        "plt.errorbar(np.linspace(0, 2,100), dist_comovil(z=np.linspace(0, 2,100), H=70,Am=0.3,Ar=0.0,AeO=0.7,w=-1), fmt='o', ms=1.5, color='b', elinewidth=0.8,capsize=1, label= 'λCDM')\n",
        "plt.legend()\n",
        "plt.xlabel(r'$z$ -- redshift', fontsize = 14)\n",
        "plt.ylabel('Distancia Comóvil', fontsize = 14)\n",
        "plt.title('Distancia Radial Comóvil', fontsize = 14)\n",
        "plt.show()"
      ],
      "execution_count": 13,
      "outputs": [
        {
          "output_type": "display_data",
          "data": {
            "image/png": "[encoded data removed]",
            "text/plain": [
              "<Figure size 432x288 with 1 Axes>"
            ]
          },
          "metadata": {
            "needs_background": "light"
          }
        }
      ]
    },
    {
      "cell_type": "code",
      "metadata": {
        "id": "KT4cP64AVNTT"
      },
      "source": [
        "#Definimos la distancia transversal comóvil y mediante bucles condicionales (if,elif) definimos las diferentes situaciones para la abundancia de curvatura\n",
        "\n",
        "def dist_trans(RH,z,H,Am,Ar,AeO,w):\n",
        "\n",
        "  # La abundancia de curvatura esta ligada por\n",
        "  Ak = 1- Am - AeO\n",
        "\n",
        "  if Ak > 0:\n",
        "\n",
        "    dist = RH/np.sqrt(Ak)*np.sinh((np.sqrt(Ak)/RH)*dist_comovil(z,H,Am,Ar,AeO,w))\n",
        "\n",
        "  elif Ak < 0:   \n",
        "\n",
        "    dist = RH/np.sqrt(Ak)*np.sin((np.sqrt(Ak)/RH)*dist_comovil(z,H,Am,Ar,AeO,w))\n",
        "\n",
        "  elif Ak == 0:\n",
        "\n",
        "    dist = dist_comovil(z,H,Am,Ar,AeO,w)\n",
        "\n",
        "  return dist\n",
        "  "
      ],
      "execution_count": 14,
      "outputs": []
    },
    {
      "cell_type": "markdown",
      "metadata": {
        "id": "Xk2TcmQb01S2"
      },
      "source": [
        "Definimos las distancias restantes, junto a mu, que en este caso representa el módulo de la distancia "
      ]
    },
    {
      "cell_type": "code",
      "metadata": {
        "id": "as-TbUYlFkjX"
      },
      "source": [
        "def dist_lum(RH,z,H,Am,Ar,AeO,w):\n",
        "\n",
        "  return (1+z)*dist_trans(RH,z,H,Am,Ar,AeO,w)"
      ],
      "execution_count": 15,
      "outputs": []
    },
    {
      "cell_type": "code",
      "metadata": {
        "id": "TMDmlAbGXshc"
      },
      "source": [
        "def dist_ng(RH,z,H,Am,Ar,AeO,w):\n",
        "\n",
        " return dist_trans(RH,z,H,Am,Ar,AeO,w)/(1+z)"
      ],
      "execution_count": 16,
      "outputs": []
    },
    {
      "cell_type": "code",
      "metadata": {
        "id": "izURVs1BX8ya"
      },
      "source": [
        "def mu(RH,z,H,Am,Ar,AeO,w):\n",
        "\n",
        "  return 25+5*np.log10(dist_lum(RH,z,H,Am,Ar,AeO,w))"
      ],
      "execution_count": 17,
      "outputs": []
    },
    {
      "cell_type": "code",
      "metadata": {
        "id": "iD103zYPd1DH",
        "colab": {
          "base_uri": "https://localhost:8080/"
        },
        "outputId": "4a8881b7-fcf6-4fb8-ac9c-f12c3236240d"
      },
      "source": [
        "print (mu(RH=c/H, z=np.linspace(0, 2, 100), H=70, Am=0.3, Ar=0.0, AeO=0.7, w=-1))"
      ],
      "execution_count": 18,
      "outputs": [
        {
          "output_type": "stream",
          "name": "stdout",
          "text": [
            "[       -inf 34.7190797  36.25674709 37.16877994 37.82414496 38.3384951\n",
            " 38.76336251 39.12624964 39.44358409 39.72597117 39.98065983 40.21282705\n",
            " 40.42630098 40.6239937  40.8081731  40.98064079 41.14285251 41.29600192\n",
            " 41.44108043 41.57892091 41.71023009 41.83561307 41.9555922  42.07062169\n",
            " 42.18109911 42.28737464 42.38975836 42.48852631 42.58392535 42.67617724\n",
            " 42.76548195 42.85202054 42.93595746 43.01744262 43.09661305 43.17359435\n",
            " 43.24850203 43.32144251 43.39251408 43.46180776 43.529408   43.59539328\n",
            " 43.65983672 43.72280652 43.78436645 43.84457617 43.90349164 43.96116539\n",
            " 44.01764681 44.07298242 44.12721604 44.18038905 44.23254054 44.2837075\n",
            " 44.33392493 44.38322603 44.4316423  44.47920365 44.52593851 44.57187394\n",
            " 44.6170357  44.66144832 44.70513524 44.74811878 44.7904203  44.83206019\n",
            " 44.87305796 44.91343229 44.95320106 44.9923814  45.03098975 45.06904187\n",
            " 45.10655289 45.14353735 45.18000921 45.2159819  45.25146833 45.28648094\n",
            " 45.3210317  45.35513214 45.38879337 45.42202609 45.45484066 45.48724703\n",
            " 45.51925484 45.55087338 45.58211163 45.61297828 45.64348171 45.67363005\n",
            " 45.70343115 45.7328926  45.76202178 45.7908258  45.81931157 45.84748578\n",
            " 45.87535493 45.9029253  45.93020299 45.95719394]\n"
          ]
        },
        {
          "output_type": "stream",
          "name": "stderr",
          "text": [
            "/usr/local/lib/python3.7/dist-packages/ipykernel_launcher.py:3: RuntimeWarning: divide by zero encountered in log10\n",
            "  This is separate from the ipykernel package so we can avoid doing imports until\n"
          ]
        }
      ]
    },
    {
      "cell_type": "code",
      "metadata": {
        "colab": {
          "base_uri": "https://localhost:8080/"
        },
        "id": "7CwuGpk52MMy",
        "outputId": "d48c37be-408a-4afa-e3f1-80e8b28d42fd"
      },
      "source": [
        "cd /content/drive/MyDrive/Proyecto_Inv/Datos_Supernovas"
      ],
      "execution_count": 19,
      "outputs": [
        {
          "output_type": "stream",
          "name": "stdout",
          "text": [
            "[Errno 2] No such file or directory: '/content/drive/MyDrive/Proyecto_Inv/Datos_Supernovas'\n",
            "/content\n"
          ]
        }
      ]
    },
    {
      "cell_type": "markdown",
      "metadata": {
        "id": "9DTwHBUISXgn"
      },
      "source": [
        "A continuación, leemos los datos provenientes de ficheros que contienen información real de mu(Módulo de la Distancia) a un determinado z(Redshift),  junto con el error asociado\n"
      ]
    },
    {
      "cell_type": "code",
      "metadata": {
        "id": "Iu_X8WtzDG1i",
        "colab": {
          "base_uri": "https://localhost:8080/",
          "height": 374
        },
        "outputId": "55c4f685-36ce-45bc-b15b-552942936683"
      },
      "source": [
        "# Leemos los datos de supernovas Ia de JLA\n",
        "data=np.loadtxt(\"betoule_sn.txt\",delimiter=' ',usecols=np.arange(4),skiprows=1)\n",
        "# reds\n",
        "reds=data[:,1]\n",
        "# Mu \n",
        "Mu=data[:,2]\n",
        "# mu error\n",
        "muerr=data[:,3]\n",
        "\n",
        "# Leemos los datos de las supernovas sn_DES_Y3\n",
        "data2=np.loadtxt(\"sn_DES_Y3.txt\",delimiter=' ',usecols=np.arange(4),skiprows=1)\n",
        "#reds2\n",
        "reds2=data2[:,1]\n",
        "# mb\n",
        "mb=data2[:,2]\n",
        "# mu error 2 \n",
        "muerr2=data2[:,3]\n",
        "\n",
        "#Añadimos el valor añadido para obtener el módulo de la distacia(Mu2) correcto\n",
        "Mu2= mb + 19.35\n",
        "\n",
        "#Leemos los datos de las supernovas hlsp_ps1cosmo_panstarrs_gpc1_all_model_v1_lcparam-full\n",
        "\n",
        "data3=np.loadtxt(\"hlsp_ps1cosmo_panstarrs_gpc1_all_model_v1_lcparam-full.txt\",delimiter=' ',usecols=np.arange(6),skiprows=1)\n",
        "#reds3\n",
        "reds3=data3[:,1]\n",
        "#zhel\n",
        "zhel=data3[:,2]\n",
        "#dz\n",
        "dz=data3[:,3]\n",
        "#mb2\n",
        "mb2=data3[:,4]\n",
        "#muerr3\n",
        "muerr3=data3[:,5]\n",
        "\n",
        "#Añadimos el valor añadido para obtener el módulo de la distacia(Mu3) correcto\n",
        "Mu3=mb2 + 19.35"
      ],
      "execution_count": 20,
      "outputs": [
        {
          "output_type": "error",
          "ename": "ValueError",
          "evalue": "ignored",
          "traceback": [
            "\u001b[0;31m---------------------------------------------------------------------------\u001b[0m",
            "\u001b[0;31mValueError\u001b[0m                                Traceback (most recent call last)",
            "\u001b[0;32m<ipython-input-20-75505a2e9715>\u001b[0m in \u001b[0;36m<module>\u001b[0;34m()\u001b[0m\n\u001b[1;32m      9\u001b[0m \u001b[0;34m\u001b[0m\u001b[0m\n\u001b[1;32m     10\u001b[0m \u001b[0;31m# Leemos los datos de las supernovas sn_DES_Y3\u001b[0m\u001b[0;34m\u001b[0m\u001b[0;34m\u001b[0m\u001b[0;34m\u001b[0m\u001b[0m\n\u001b[0;32m---> 11\u001b[0;31m \u001b[0mdata2\u001b[0m\u001b[0;34m=\u001b[0m\u001b[0mnp\u001b[0m\u001b[0;34m.\u001b[0m\u001b[0mloadtxt\u001b[0m\u001b[0;34m(\u001b[0m\u001b[0;34m\"sn_DES_Y3.txt\"\u001b[0m\u001b[0;34m,\u001b[0m\u001b[0mdelimiter\u001b[0m\u001b[0;34m=\u001b[0m\u001b[0;34m' '\u001b[0m\u001b[0;34m,\u001b[0m\u001b[0musecols\u001b[0m\u001b[0;34m=\u001b[0m\u001b[0mnp\u001b[0m\u001b[0;34m.\u001b[0m\u001b[0marange\u001b[0m\u001b[0;34m(\u001b[0m\u001b[0;36m4\u001b[0m\u001b[0;34m)\u001b[0m\u001b[0;34m,\u001b[0m\u001b[0mskiprows\u001b[0m\u001b[0;34m=\u001b[0m\u001b[0;36m1\u001b[0m\u001b[0;34m)\u001b[0m\u001b[0;34m\u001b[0m\u001b[0;34m\u001b[0m\u001b[0m\n\u001b[0m\u001b[1;32m     12\u001b[0m \u001b[0;31m#reds2\u001b[0m\u001b[0;34m\u001b[0m\u001b[0;34m\u001b[0m\u001b[0;34m\u001b[0m\u001b[0m\n\u001b[1;32m     13\u001b[0m \u001b[0mreds2\u001b[0m\u001b[0;34m=\u001b[0m\u001b[0mdata2\u001b[0m\u001b[0;34m[\u001b[0m\u001b[0;34m:\u001b[0m\u001b[0;34m,\u001b[0m\u001b[0;36m1\u001b[0m\u001b[0;34m]\u001b[0m\u001b[0;34m\u001b[0m\u001b[0;34m\u001b[0m\u001b[0m\n",
            "\u001b[0;32m/usr/local/lib/python3.7/dist-packages/numpy/lib/npyio.py\u001b[0m in \u001b[0;36mloadtxt\u001b[0;34m(fname, dtype, comments, delimiter, converters, skiprows, usecols, unpack, ndmin, encoding, max_rows)\u001b[0m\n\u001b[1;32m   1137\u001b[0m         \u001b[0;31m# converting the data\u001b[0m\u001b[0;34m\u001b[0m\u001b[0;34m\u001b[0m\u001b[0;34m\u001b[0m\u001b[0m\n\u001b[1;32m   1138\u001b[0m         \u001b[0mX\u001b[0m \u001b[0;34m=\u001b[0m \u001b[0;32mNone\u001b[0m\u001b[0;34m\u001b[0m\u001b[0;34m\u001b[0m\u001b[0m\n\u001b[0;32m-> 1139\u001b[0;31m         \u001b[0;32mfor\u001b[0m \u001b[0mx\u001b[0m \u001b[0;32min\u001b[0m \u001b[0mread_data\u001b[0m\u001b[0;34m(\u001b[0m\u001b[0m_loadtxt_chunksize\u001b[0m\u001b[0;34m)\u001b[0m\u001b[0;34m:\u001b[0m\u001b[0;34m\u001b[0m\u001b[0;34m\u001b[0m\u001b[0m\n\u001b[0m\u001b[1;32m   1140\u001b[0m             \u001b[0;32mif\u001b[0m \u001b[0mX\u001b[0m \u001b[0;32mis\u001b[0m \u001b[0;32mNone\u001b[0m\u001b[0;34m:\u001b[0m\u001b[0;34m\u001b[0m\u001b[0;34m\u001b[0m\u001b[0m\n\u001b[1;32m   1141\u001b[0m                 \u001b[0mX\u001b[0m \u001b[0;34m=\u001b[0m \u001b[0mnp\u001b[0m\u001b[0;34m.\u001b[0m\u001b[0marray\u001b[0m\u001b[0;34m(\u001b[0m\u001b[0mx\u001b[0m\u001b[0;34m,\u001b[0m \u001b[0mdtype\u001b[0m\u001b[0;34m)\u001b[0m\u001b[0;34m\u001b[0m\u001b[0;34m\u001b[0m\u001b[0m\n",
            "\u001b[0;32m/usr/local/lib/python3.7/dist-packages/numpy/lib/npyio.py\u001b[0m in \u001b[0;36mread_data\u001b[0;34m(chunk_size)\u001b[0m\n\u001b[1;32m   1065\u001b[0m \u001b[0;34m\u001b[0m\u001b[0m\n\u001b[1;32m   1066\u001b[0m             \u001b[0;31m# Convert each value according to its column and store\u001b[0m\u001b[0;34m\u001b[0m\u001b[0;34m\u001b[0m\u001b[0;34m\u001b[0m\u001b[0m\n\u001b[0;32m-> 1067\u001b[0;31m             \u001b[0mitems\u001b[0m \u001b[0;34m=\u001b[0m \u001b[0;34m[\u001b[0m\u001b[0mconv\u001b[0m\u001b[0;34m(\u001b[0m\u001b[0mval\u001b[0m\u001b[0;34m)\u001b[0m \u001b[0;32mfor\u001b[0m \u001b[0;34m(\u001b[0m\u001b[0mconv\u001b[0m\u001b[0;34m,\u001b[0m \u001b[0mval\u001b[0m\u001b[0;34m)\u001b[0m \u001b[0;32min\u001b[0m \u001b[0mzip\u001b[0m\u001b[0;34m(\u001b[0m\u001b[0mconverters\u001b[0m\u001b[0;34m,\u001b[0m \u001b[0mvals\u001b[0m\u001b[0;34m)\u001b[0m\u001b[0;34m]\u001b[0m\u001b[0;34m\u001b[0m\u001b[0;34m\u001b[0m\u001b[0m\n\u001b[0m\u001b[1;32m   1068\u001b[0m \u001b[0;34m\u001b[0m\u001b[0m\n\u001b[1;32m   1069\u001b[0m             \u001b[0;31m# Then pack it according to the dtype's nesting\u001b[0m\u001b[0;34m\u001b[0m\u001b[0;34m\u001b[0m\u001b[0;34m\u001b[0m\u001b[0m\n",
            "\u001b[0;32m/usr/local/lib/python3.7/dist-packages/numpy/lib/npyio.py\u001b[0m in \u001b[0;36m<listcomp>\u001b[0;34m(.0)\u001b[0m\n\u001b[1;32m   1065\u001b[0m \u001b[0;34m\u001b[0m\u001b[0m\n\u001b[1;32m   1066\u001b[0m             \u001b[0;31m# Convert each value according to its column and store\u001b[0m\u001b[0;34m\u001b[0m\u001b[0;34m\u001b[0m\u001b[0;34m\u001b[0m\u001b[0m\n\u001b[0;32m-> 1067\u001b[0;31m             \u001b[0mitems\u001b[0m \u001b[0;34m=\u001b[0m \u001b[0;34m[\u001b[0m\u001b[0mconv\u001b[0m\u001b[0;34m(\u001b[0m\u001b[0mval\u001b[0m\u001b[0;34m)\u001b[0m \u001b[0;32mfor\u001b[0m \u001b[0;34m(\u001b[0m\u001b[0mconv\u001b[0m\u001b[0;34m,\u001b[0m \u001b[0mval\u001b[0m\u001b[0;34m)\u001b[0m \u001b[0;32min\u001b[0m \u001b[0mzip\u001b[0m\u001b[0;34m(\u001b[0m\u001b[0mconverters\u001b[0m\u001b[0;34m,\u001b[0m \u001b[0mvals\u001b[0m\u001b[0;34m)\u001b[0m\u001b[0;34m]\u001b[0m\u001b[0;34m\u001b[0m\u001b[0;34m\u001b[0m\u001b[0m\n\u001b[0m\u001b[1;32m   1068\u001b[0m \u001b[0;34m\u001b[0m\u001b[0m\n\u001b[1;32m   1069\u001b[0m             \u001b[0;31m# Then pack it according to the dtype's nesting\u001b[0m\u001b[0;34m\u001b[0m\u001b[0;34m\u001b[0m\u001b[0;34m\u001b[0m\u001b[0m\n",
            "\u001b[0;32m/usr/local/lib/python3.7/dist-packages/numpy/lib/npyio.py\u001b[0m in \u001b[0;36mfloatconv\u001b[0;34m(x)\u001b[0m\n\u001b[1;32m    761\u001b[0m         \u001b[0;32mif\u001b[0m \u001b[0;34m'0x'\u001b[0m \u001b[0;32min\u001b[0m \u001b[0mx\u001b[0m\u001b[0;34m:\u001b[0m\u001b[0;34m\u001b[0m\u001b[0;34m\u001b[0m\u001b[0m\n\u001b[1;32m    762\u001b[0m             \u001b[0;32mreturn\u001b[0m \u001b[0mfloat\u001b[0m\u001b[0;34m.\u001b[0m\u001b[0mfromhex\u001b[0m\u001b[0;34m(\u001b[0m\u001b[0mx\u001b[0m\u001b[0;34m)\u001b[0m\u001b[0;34m\u001b[0m\u001b[0;34m\u001b[0m\u001b[0m\n\u001b[0;32m--> 763\u001b[0;31m         \u001b[0;32mreturn\u001b[0m \u001b[0mfloat\u001b[0m\u001b[0;34m(\u001b[0m\u001b[0mx\u001b[0m\u001b[0;34m)\u001b[0m\u001b[0;34m\u001b[0m\u001b[0;34m\u001b[0m\u001b[0m\n\u001b[0m\u001b[1;32m    764\u001b[0m \u001b[0;34m\u001b[0m\u001b[0m\n\u001b[1;32m    765\u001b[0m     \u001b[0mtyp\u001b[0m \u001b[0;34m=\u001b[0m \u001b[0mdtype\u001b[0m\u001b[0;34m.\u001b[0m\u001b[0mtype\u001b[0m\u001b[0;34m\u001b[0m\u001b[0;34m\u001b[0m\u001b[0m\n",
            "\u001b[0;31mValueError\u001b[0m: could not convert string to float: "
          ]
        }
      ]
    },
    {
      "cell_type": "code",
      "metadata": {
        "id": "AJWjR_f7gaXe"
      },
      "source": [
        "print(Mu3)"
      ],
      "execution_count": null,
      "outputs": []
    },
    {
      "cell_type": "code",
      "metadata": {
        "id": "GIL-28NHGFen"
      },
      "source": [
        "z = np.linspace(0,2,100)"
      ],
      "execution_count": null,
      "outputs": []
    },
    {
      "cell_type": "markdown",
      "metadata": {
        "id": "Jy_a9lwI10OL"
      },
      "source": [
        "Calculamos el módulo de la distancia  para los diferentes modelos cosmológicos ya planteados"
      ]
    },
    {
      "cell_type": "code",
      "metadata": {
        "id": "K3xV5MeVagYV"
      },
      "source": [
        "plt.figure()\n",
        "plt.plot(z, mu(RH=c/H, z=np.linspace(0, 2, 100), H=70, Am=0.3, Ar=0.0, AeO=0.7, w=-1), label= 'λCDM')\n",
        "plt.plot(z, mu(RH=c/H, z=np.linspace(0, 2, 100), H=70, Am=1.0, Ar=0.0, AeO=0.0, w=-1), label= 'EdS')\n",
        "plt.plot(z, mu(RH=c/H, z=np.linspace(0, 2, 100), H=70, Am=0.3, Ar=0.0, AeO=0.0, w=-1), label= '30% Materia')\n",
        "plt.plot(z, mu(RH=c/H, z=np.linspace(0, 2, 100), H=70, Am=0.0, Ar=0.0, AeO=1.0, w=-1), label= '100% Energía Oscura')\n",
        "plt.plot(z, mu(RH=c/H, z=np.linspace(0, 2, 100), H=70, Am=0.0, Ar=0.0, AeO=0.0, w=-1), label= 'Universo Vacío')\n",
        "plt.errorbar(reds,Mu,yerr=muerr,fmt='o',ms=1.5,color='b',elinewidth=1.0,capsize=1,label='SN JLA Data')\n",
        "plt.errorbar(reds2,Mu2,yerr=muerr2,fmt='o',ms=1.5,color='k',elinewidth=1.0,capsize=1,label='SN DES_Y3 Data')\n",
        "plt.legend()\n",
        "plt.grid(alpha=0.35,linewidth=1,linestyle='--')\n",
        "plt.xlabel(r'$z$ -- redshift', fontsize = 14)\n",
        "plt.ylabel(r'$\\mu$ -- Módulo de la Distancia', fontsize = 14)\n",
        "plt.title('Ley de Hubble', fontsize = 14)\n",
        "plt.savefig('Ley De Hubble.png',\n",
        "           format='png',\n",
        "           dpi=200,\n",
        "           transparent=False,\n",
        "            bbox_inches='tight')\n",
        "\n",
        "plt.show()"
      ],
      "execution_count": null,
      "outputs": []
    },
    {
      "cell_type": "code",
      "metadata": {
        "colab": {
          "base_uri": "https://localhost:8080/",
          "height": 301
        },
        "id": "-UjvHWXi-jV7",
        "outputId": "3a8f4a20-94a1-47f2-aae9-2f993829f139"
      },
      "source": [
        "plt.figure()\n",
        "plt.errorbar(reds3,Mu3,yerr=muerr3,fmt='o',ms=1.5,color='g',elinewidth=1.0,capsize=1,label='hlsp_ps1cosmo_panstarrs_gpc1 Data')\n",
        "plt.legend()\n",
        "plt.grid(alpha=0.35,linewidth=1,linestyle='--')\n",
        "plt.xlabel(r'$z$ -- redshift', fontsize = 14)\n",
        "plt.ylabel(r'$\\mu$ -- Módulo de la Distancia', fontsize = 14)\n",
        "plt.title('Supernovae_Data3', fontsize = 14)\n",
        "plt.savefig('SN panstarrs_gpc1_all_model_v1.png',\n",
        "           format='png',\n",
        "           dpi=200,\n",
        "           transparent=False,\n",
        "            bbox_inches='tight')\n",
        "\n",
        "plt.show()"
      ],
      "execution_count": null,
      "outputs": [
        {
          "data": {
            "image/png": "[encoded data removed]",
            "text/plain": [
              "<Figure size 432x288 with 1 Axes>"
            ]
          },
          "metadata": {
            "tags": []
          },
          "output_type": "display_data"
        }
      ]
    },
    {
      "cell_type": "markdown",
      "metadata": {
        "id": "d4zhTWiECmW4"
      },
      "source": [
        "Calculamos el parámetro de Hubble para los diferentes modelos cosmológicos ya planteados"
      ]
    },
    {
      "cell_type": "code",
      "metadata": {
        "id": "WjH_RvCrCvVs"
      },
      "source": [
        "plt.figure()\n",
        "plt.plot(z, par_hubble(z=np.linspace(0, 2, 100), H=70, Am=0.3, Ar=0, AeO=0.7), label= 'λCDM' )\n",
        "plt.plot(z, par_hubble(z=np.linspace(0, 2, 100), H=70, Am=1.0, Ar=0, AeO=0.0), label= 'EDS' )\n",
        "plt.plot(z, par_hubble(z=np.linspace(0, 2, 100), H=70, Am=0.3, Ar=0, AeO=0.0), label= '30% Materia' )\n",
        "plt.plot(z, par_hubble(z=np.linspace(0, 2, 100), H=70, Am=0.0, Ar=0, AeO=1.0), label= '100% Energía Oscura' )\n",
        "plt.plot(z, par_hubble(z=np.linspace(0, 2, 100), H=70, Am=0.0, Ar=0, AeO=0.0), label= 'Universo Vacío' )\n",
        "plt.legend()\n",
        "plt.grid(alpha=0.35,linewidth=1,linestyle='--')\n",
        "plt.xlabel(r'$z$ -- redshift', fontsize = 14)\n",
        "plt.ylabel(r'$H$ -- Parámetro de Hubble ', fontsize = 14)\n",
        "plt.title('Parámetro de Hubble', fontsize = 14)\n",
        "plt.savefig('Parámetro de Hubble.png',\n",
        "           format='png',\n",
        "           dpi=200,\n",
        "           transparent=False,\n",
        "            bbox_inches='tight')\n",
        "plt.show()\n"
      ],
      "execution_count": null,
      "outputs": []
    },
    {
      "cell_type": "markdown",
      "metadata": {
        "id": "NIipCOc-7-Ez"
      },
      "source": [
        "Calculamos la distancia radial comóvil para los diferentes modelos cosmológicos previamente planteados"
      ]
    },
    {
      "cell_type": "code",
      "metadata": {
        "colab": {
          "base_uri": "https://localhost:8080/",
          "height": 301
        },
        "id": "vE9yp1HS8Hiv",
        "outputId": "2f4c42de-43c9-43c9-90ca-a046610a3594"
      },
      "source": [
        "plt.figure()\n",
        "plt.plot(z, dist_comovil(z=np.linspace(0, 2, 100), H=70,Am=0.3,Ar=0.0,AeO=0.7, w=-1), label= 'λCDM')\n",
        "plt.plot(z, dist_comovil(z=np.linspace(0, 2, 100), H=70,Am=1.0,Ar=0.0,AeO=0.0, w=-1), label=  'EDS')\n",
        "plt.plot(z, dist_comovil(z=np.linspace(0, 2, 100), H=70,Am=0.3,Ar=0.0,AeO=0.7, w=-1), label= '30% Materia')\n",
        "plt.plot(z, dist_comovil(z=np.linspace(0, 2, 100), H=70,Am=0.3,Ar=0.0,AeO=0.7, w=-1), label= '100% Energía Oscura')\n",
        "plt.plot(z, dist_comovil(z=np.linspace(0, 2, 100), H=70,Am=0.3,Ar=0.0,AeO=0.7, w=-1), label= 'Universo Vacío')\n",
        "plt.legend()\n",
        "plt.grid(alpha=0.35,linewidth=1,linestyle='--')\n",
        "plt.xlabel(r'$z$ -- redshift', fontsize = 14)\n",
        "plt.ylabel('Distancia Comóvil', fontsize = 14)\n",
        "plt.title('Distancia Radial Comóvil', fontsize = 14)\n",
        "plt.savefig('Distancia Comóvil.png',\n",
        "           format='png',\n",
        "           dpi=200,\n",
        "           transparent=False,\n",
        "            bbox_inches='tight')\n",
        "plt.show()\n"
      ],
      "execution_count": null,
      "outputs": [
        {
          "output_type": "display_data",
          "data": {
            "image/png": "[encoded data removed]",
            "text/plain": [
              "<Figure size 432x288 with 1 Axes>"
            ]
          },
          "metadata": {
            "needs_background": "light"
          }
        }
      ]
    },
    {
      "cell_type": "markdown",
      "metadata": {
        "id": "qIGPyOV3nL0z"
      },
      "source": [
        "# Ajuste de los datos de supernovas tipo Ia"
      ]
    },
    {
      "cell_type": "markdown",
      "metadata": {
        "id": "cr02HwyUnQxh"
      },
      "source": [
        "Podemos calcular qué parametros cosmológicos generan un modelo que describe mejor los datos que tenemos de supernovas. Para ello podemos seguir el proceso de **minimización de mínimos cuadrados**, que esquemáticamente consiste en:\n",
        "\n",
        "\n",
        "*   Para un determinado valor de un parámetro cosmológico, por ejemplo $\\Omega_\\Lambda$ = 0.5 calculamos el módulo de distancia\n",
        "*   Calculamos el $\\chi^2$ según la ecuación \n",
        "\n",
        "    $\\chi^2 = \\frac{datos - modelo}{error^2}$\n",
        "\n",
        "* Guardamos el valor del $\\chi^2$ que arroja comparar los datos con el módulo de distancia evaluado en $\\Omega_\\Lambda = 0.5$.\n",
        "\n",
        "* Repetimos el proceso para un conjunto de valores del parámetro que queremos inferir\n",
        "\n"
      ]
    },
    {
      "cell_type": "code",
      "metadata": {
        "id": "7R4jsTIxooXf"
      },
      "source": [
        "# Leemos los datos de supernovas Ia de JLA\n",
        "data=np.loadtxt(\"betoule_sn.txt\",delimiter=' ',usecols=np.arange(4),skiprows=1)\n",
        "# reds\n",
        "reds=data[:,1]\n",
        "# Mu \n",
        "Mu=data[:,2]\n",
        "# mu error\n",
        "muerr=data[:,3]"
      ],
      "execution_count": 21,
      "outputs": []
    },
    {
      "cell_type": "code",
      "metadata": {
        "id": "_TipYh1CoogX"
      },
      "source": [
        "# Generamos arrays para el parámetro cosmológico y para el Chi^2\n",
        "# nsample = 500 Fiducial setting\n",
        "nsample = 20 # Quick test\n",
        "Ol = np.zeros(nsample)\n",
        "w = np.zeros(nsample)\n",
        "chi2 = np.zeros((nsample, nsample))\n"
      ],
      "execution_count": 132,
      "outputs": []
    },
    {
      "cell_type": "code",
      "metadata": {
        "id": "J--5iJ9-EKja"
      },
      "source": [
        "import numpy as np"
      ],
      "execution_count": 133,
      "outputs": []
    },
    {
      "cell_type": "code",
      "metadata": {
        "id": "b7qBGw31ooi9",
        "colab": {
          "base_uri": "https://localhost:8080/"
        },
        "outputId": "abba87cf-51ee-43e7-80f7-131bdd16c916"
      },
      "source": [
        "# Calculamos el valor del Chi^2 para los diferentes valores de Omega Lambda\n",
        "for i in np.arange(nsample):\n",
        "  # print(i)\n",
        "  Ol[i] = 0.05 + i*0.95/nsample\n",
        "  # print(r'En esta iteración $\\Omega_\\Lambda = ${}'.format(Ol[i]))\n",
        "  # chi2[i] = np.sum((Mu-25-5*np.log10(mu(Ak=0, RH=c/H, z=np.linspace(0, 2, 100), H=70, Am=0.3, Ar=0.0, AeO=0.7)))**2/muerr**2)\n",
        "\n",
        "  for j in np.arange(nsample):\n",
        "    # w[j] = -2.0 + j*1.66/nsample\n",
        "    w[j] = -1.33 + j*1.66/nsample\n",
        "    print(Ol[i], w[j]) \n",
        "    chi2[i, j] = np.sum((Mu-mu(RH=c/H, z=reds, H=70, Am=1-Ol[i], Ar=0.0, AeO=Ol[i], w=w[j]))**2/muerr**2)\n",
        "# Associate max value to nans\n",
        "# chi2[np.isnan(chi2)] = np.nanmax(chi2)\n",
        "\n",
        "# Associate mean value to nans (nicer for plotting)\n",
        "chi2[np.isnan(chi2)] = np.nanmean(chi2)"
      ],
      "execution_count": 134,
      "outputs": [
        {
          "output_type": "stream",
          "name": "stdout",
          "text": [
            "0.05 -1.33\n",
            "0.05 -1.247\n",
            "0.05 -1.1640000000000001\n",
            "0.05 -1.0810000000000002\n",
            "0.05 -0.9980000000000001\n",
            "0.05 -0.9150000000000001\n",
            "0.05 -0.8320000000000001\n",
            "0.05 -0.7490000000000001\n",
            "0.05 -0.6660000000000001\n",
            "0.05 -0.5830000000000001\n",
            "0.05 -0.5000000000000002\n",
            "0.05 -0.41700000000000015\n",
            "0.05 -0.3340000000000002\n",
            "0.05 -0.2510000000000001\n",
            "0.05 -0.16800000000000015\n",
            "0.05 -0.08500000000000019\n",
            "0.05 -0.002000000000000224\n",
            "0.05 0.08099999999999996\n",
            "0.05 0.16399999999999992\n",
            "0.05 0.2469999999999999\n",
            "0.0975 -1.33\n",
            "0.0975 -1.247\n",
            "0.0975 -1.1640000000000001\n",
            "0.0975 -1.0810000000000002\n",
            "0.0975 -0.9980000000000001\n",
            "0.0975 -0.9150000000000001\n",
            "0.0975 -0.8320000000000001\n",
            "0.0975 -0.7490000000000001\n",
            "0.0975 -0.6660000000000001\n",
            "0.0975 -0.5830000000000001\n",
            "0.0975 -0.5000000000000002\n",
            "0.0975 -0.41700000000000015\n",
            "0.0975 -0.3340000000000002\n",
            "0.0975 -0.2510000000000001\n",
            "0.0975 -0.16800000000000015\n",
            "0.0975 -0.08500000000000019\n",
            "0.0975 -0.002000000000000224\n",
            "0.0975 0.08099999999999996\n",
            "0.0975 0.16399999999999992\n",
            "0.0975 0.2469999999999999\n",
            "0.14500000000000002 -1.33\n",
            "0.14500000000000002 -1.247\n",
            "0.14500000000000002 -1.1640000000000001\n",
            "0.14500000000000002 -1.0810000000000002\n",
            "0.14500000000000002 -0.9980000000000001\n",
            "0.14500000000000002 -0.9150000000000001\n",
            "0.14500000000000002 -0.8320000000000001\n",
            "0.14500000000000002 -0.7490000000000001\n",
            "0.14500000000000002 -0.6660000000000001\n",
            "0.14500000000000002 -0.5830000000000001\n",
            "0.14500000000000002 -0.5000000000000002\n",
            "0.14500000000000002 -0.41700000000000015\n",
            "0.14500000000000002 -0.3340000000000002\n",
            "0.14500000000000002 -0.2510000000000001\n",
            "0.14500000000000002 -0.16800000000000015\n",
            "0.14500000000000002 -0.08500000000000019\n",
            "0.14500000000000002 -0.002000000000000224\n",
            "0.14500000000000002 0.08099999999999996\n",
            "0.14500000000000002 0.16399999999999992\n",
            "0.14500000000000002 0.2469999999999999\n",
            "0.1925 -1.33\n",
            "0.1925 -1.247\n",
            "0.1925 -1.1640000000000001\n",
            "0.1925 -1.0810000000000002\n",
            "0.1925 -0.9980000000000001\n",
            "0.1925 -0.9150000000000001\n",
            "0.1925 -0.8320000000000001\n",
            "0.1925 -0.7490000000000001\n",
            "0.1925 -0.6660000000000001\n",
            "0.1925 -0.5830000000000001\n",
            "0.1925 -0.5000000000000002\n",
            "0.1925 -0.41700000000000015\n",
            "0.1925 -0.3340000000000002\n",
            "0.1925 -0.2510000000000001\n",
            "0.1925 -0.16800000000000015\n",
            "0.1925 -0.08500000000000019\n",
            "0.1925 -0.002000000000000224\n",
            "0.1925 0.08099999999999996\n",
            "0.1925 0.16399999999999992\n",
            "0.1925 0.2469999999999999\n",
            "0.24 -1.33\n",
            "0.24 -1.247\n",
            "0.24 -1.1640000000000001\n",
            "0.24 -1.0810000000000002\n",
            "0.24 -0.9980000000000001\n",
            "0.24 -0.9150000000000001\n",
            "0.24 -0.8320000000000001\n",
            "0.24 -0.7490000000000001\n",
            "0.24 -0.6660000000000001\n",
            "0.24 -0.5830000000000001\n",
            "0.24 -0.5000000000000002\n",
            "0.24 -0.41700000000000015\n",
            "0.24 -0.3340000000000002\n",
            "0.24 -0.2510000000000001\n",
            "0.24 -0.16800000000000015\n",
            "0.24 -0.08500000000000019\n",
            "0.24 -0.002000000000000224\n",
            "0.24 0.08099999999999996\n",
            "0.24 0.16399999999999992\n",
            "0.24 0.2469999999999999\n",
            "0.2875 -1.33\n",
            "0.2875 -1.247\n",
            "0.2875 -1.1640000000000001\n",
            "0.2875 -1.0810000000000002\n",
            "0.2875 -0.9980000000000001\n",
            "0.2875 -0.9150000000000001\n",
            "0.2875 -0.8320000000000001\n",
            "0.2875 -0.7490000000000001\n",
            "0.2875 -0.6660000000000001\n",
            "0.2875 -0.5830000000000001\n",
            "0.2875 -0.5000000000000002\n",
            "0.2875 -0.41700000000000015\n",
            "0.2875 -0.3340000000000002\n",
            "0.2875 -0.2510000000000001\n",
            "0.2875 -0.16800000000000015\n",
            "0.2875 -0.08500000000000019\n",
            "0.2875 -0.002000000000000224\n",
            "0.2875 0.08099999999999996\n",
            "0.2875 0.16399999999999992\n",
            "0.2875 0.2469999999999999\n",
            "0.33499999999999996 -1.33\n",
            "0.33499999999999996 -1.247\n",
            "0.33499999999999996 -1.1640000000000001\n",
            "0.33499999999999996 -1.0810000000000002\n",
            "0.33499999999999996 -0.9980000000000001\n",
            "0.33499999999999996 -0.9150000000000001\n",
            "0.33499999999999996 -0.8320000000000001\n",
            "0.33499999999999996 -0.7490000000000001\n",
            "0.33499999999999996 -0.6660000000000001\n",
            "0.33499999999999996 -0.5830000000000001\n",
            "0.33499999999999996 -0.5000000000000002\n",
            "0.33499999999999996 -0.41700000000000015\n",
            "0.33499999999999996 -0.3340000000000002\n",
            "0.33499999999999996 -0.2510000000000001\n",
            "0.33499999999999996 -0.16800000000000015\n",
            "0.33499999999999996 -0.08500000000000019\n",
            "0.33499999999999996 -0.002000000000000224\n",
            "0.33499999999999996 0.08099999999999996\n",
            "0.33499999999999996 0.16399999999999992\n",
            "0.33499999999999996 0.2469999999999999\n",
            "0.38249999999999995 -1.33\n",
            "0.38249999999999995 -1.247\n",
            "0.38249999999999995 -1.1640000000000001\n",
            "0.38249999999999995 -1.0810000000000002\n",
            "0.38249999999999995 -0.9980000000000001\n",
            "0.38249999999999995 -0.9150000000000001\n",
            "0.38249999999999995 -0.8320000000000001\n",
            "0.38249999999999995 -0.7490000000000001\n",
            "0.38249999999999995 -0.6660000000000001\n",
            "0.38249999999999995 -0.5830000000000001\n",
            "0.38249999999999995 -0.5000000000000002\n",
            "0.38249999999999995 -0.41700000000000015\n",
            "0.38249999999999995 -0.3340000000000002\n",
            "0.38249999999999995 -0.2510000000000001\n",
            "0.38249999999999995 -0.16800000000000015\n",
            "0.38249999999999995 -0.08500000000000019\n",
            "0.38249999999999995 -0.002000000000000224\n",
            "0.38249999999999995 0.08099999999999996\n",
            "0.38249999999999995 0.16399999999999992\n",
            "0.38249999999999995 0.2469999999999999\n",
            "0.43 -1.33\n",
            "0.43 -1.247\n",
            "0.43 -1.1640000000000001\n",
            "0.43 -1.0810000000000002\n",
            "0.43 -0.9980000000000001\n",
            "0.43 -0.9150000000000001\n",
            "0.43 -0.8320000000000001\n",
            "0.43 -0.7490000000000001\n",
            "0.43 -0.6660000000000001\n",
            "0.43 -0.5830000000000001\n",
            "0.43 -0.5000000000000002\n",
            "0.43 -0.41700000000000015\n",
            "0.43 -0.3340000000000002\n",
            "0.43 -0.2510000000000001\n",
            "0.43 -0.16800000000000015\n",
            "0.43 -0.08500000000000019\n",
            "0.43 -0.002000000000000224\n",
            "0.43 0.08099999999999996\n",
            "0.43 0.16399999999999992\n",
            "0.43 0.2469999999999999\n",
            "0.4774999999999999 -1.33\n",
            "0.4774999999999999 -1.247\n",
            "0.4774999999999999 -1.1640000000000001\n",
            "0.4774999999999999 -1.0810000000000002\n",
            "0.4774999999999999 -0.9980000000000001\n",
            "0.4774999999999999 -0.9150000000000001\n",
            "0.4774999999999999 -0.8320000000000001\n",
            "0.4774999999999999 -0.7490000000000001\n",
            "0.4774999999999999 -0.6660000000000001\n",
            "0.4774999999999999 -0.5830000000000001\n",
            "0.4774999999999999 -0.5000000000000002\n",
            "0.4774999999999999 -0.41700000000000015\n",
            "0.4774999999999999 -0.3340000000000002\n",
            "0.4774999999999999 -0.2510000000000001\n",
            "0.4774999999999999 -0.16800000000000015\n",
            "0.4774999999999999 -0.08500000000000019\n",
            "0.4774999999999999 -0.002000000000000224\n",
            "0.4774999999999999 0.08099999999999996\n",
            "0.4774999999999999 0.16399999999999992\n",
            "0.4774999999999999 0.2469999999999999\n",
            "0.525 -1.33\n",
            "0.525 -1.247\n",
            "0.525 -1.1640000000000001\n",
            "0.525 -1.0810000000000002\n",
            "0.525 -0.9980000000000001\n",
            "0.525 -0.9150000000000001\n",
            "0.525 -0.8320000000000001\n",
            "0.525 -0.7490000000000001\n",
            "0.525 -0.6660000000000001\n",
            "0.525 -0.5830000000000001\n",
            "0.525 -0.5000000000000002\n",
            "0.525 -0.41700000000000015\n",
            "0.525 -0.3340000000000002\n",
            "0.525 -0.2510000000000001\n",
            "0.525 -0.16800000000000015\n",
            "0.525"
          ]
        },
        {
          "output_type": "stream",
          "name": "stderr",
          "text": [
            "/usr/local/lib/python3.7/dist-packages/ipykernel_launcher.py:14: RuntimeWarning: invalid value encountered in sqrt\n",
            "  \n"
          ]
        },
        {
          "output_type": "stream",
          "name": "stdout",
          "text": [
            " -0.08500000000000019\n",
            "0.525 -0.002000000000000224\n",
            "0.525 0.08099999999999996\n",
            "0.525 0.16399999999999992\n",
            "0.525 0.2469999999999999\n",
            "0.5725 -1.33\n",
            "0.5725 -1.247\n",
            "0.5725 -1.1640000000000001\n",
            "0.5725 -1.0810000000000002\n",
            "0.5725 -0.9980000000000001\n",
            "0.5725 -0.9150000000000001\n",
            "0.5725 -0.8320000000000001\n",
            "0.5725 -0.7490000000000001\n",
            "0.5725 -0.6660000000000001\n",
            "0.5725 -0.5830000000000001\n",
            "0.5725 -0.5000000000000002\n",
            "0.5725 -0.41700000000000015\n",
            "0.5725 -0.3340000000000002\n",
            "0.5725 -0.2510000000000001\n",
            "0.5725 -0.16800000000000015\n",
            "0.5725 -0.08500000000000019\n",
            "0.5725 -0.002000000000000224\n",
            "0.5725 0.08099999999999996\n",
            "0.5725 0.16399999999999992\n",
            "0.5725 0.2469999999999999\n",
            "0.62 -1.33\n",
            "0.62 -1.247\n",
            "0.62 -1.1640000000000001\n",
            "0.62 -1.0810000000000002\n",
            "0.62 -0.9980000000000001\n",
            "0.62 -0.9150000000000001\n",
            "0.62 -0.8320000000000001\n",
            "0.62 -0.7490000000000001\n",
            "0.62 -0.6660000000000001\n",
            "0.62 -0.5830000000000001\n",
            "0.62 -0.5000000000000002\n",
            "0.62 -0.41700000000000015\n",
            "0.62 -0.3340000000000002\n",
            "0.62 -0.2510000000000001\n",
            "0.62 -0.16800000000000015\n",
            "0.62 -0.08500000000000019\n",
            "0.62 -0.002000000000000224\n",
            "0.62 0.08099999999999996\n",
            "0.62 0.16399999999999992\n",
            "0.62 0.2469999999999999\n",
            "0.6675 -1.33\n",
            "0.6675 -1.247\n",
            "0.6675 -1.1640000000000001\n",
            "0.6675 -1.0810000000000002\n",
            "0.6675 -0.9980000000000001\n",
            "0.6675 -0.9150000000000001\n",
            "0.6675 -0.8320000000000001\n",
            "0.6675 -0.7490000000000001\n",
            "0.6675 -0.6660000000000001\n",
            "0.6675 -0.5830000000000001\n",
            "0.6675 -0.5000000000000002\n",
            "0.6675 -0.41700000000000015\n",
            "0.6675 -0.3340000000000002\n",
            "0.6675 -0.2510000000000001\n",
            "0.6675 -0.16800000000000015\n",
            "0.6675 -0.08500000000000019\n",
            "0.6675 -0.002000000000000224\n",
            "0.6675 0.08099999999999996\n",
            "0.6675 0.16399999999999992\n",
            "0.6675 0.2469999999999999\n",
            "0.715 -1.33\n",
            "0.715 -1.247\n",
            "0.715 -1.1640000000000001\n",
            "0.715 -1.0810000000000002\n",
            "0.715 -0.9980000000000001\n",
            "0.715 -0.9150000000000001\n",
            "0.715 -0.8320000000000001\n",
            "0.715 -0.7490000000000001\n",
            "0.715 -0.6660000000000001\n",
            "0.715 -0.5830000000000001\n",
            "0.715 -0.5000000000000002\n",
            "0.715 -0.41700000000000015\n",
            "0.715 -0.3340000000000002\n",
            "0.715 -0.2510000000000001\n",
            "0.715 -0.16800000000000015\n",
            "0.715 -0.08500000000000019\n",
            "0.715 -0.002000000000000224\n",
            "0.715 0.08099999999999996\n",
            "0.715 0.16399999999999992\n",
            "0.715 0.2469999999999999\n",
            "0.7625000000000001 -1.33\n",
            "0.7625000000000001 -1.247\n",
            "0.7625000000000001 -1.1640000000000001\n",
            "0.7625000000000001 -1.0810000000000002\n",
            "0.7625000000000001 -0.9980000000000001\n",
            "0.7625000000000001 -0.9150000000000001\n",
            "0.7625000000000001 -0.8320000000000001\n",
            "0.7625000000000001 -0.7490000000000001\n",
            "0.7625000000000001 -0.6660000000000001\n",
            "0.7625000000000001 -0.5830000000000001\n",
            "0.7625000000000001 -0.5000000000000002\n",
            "0.7625000000000001 -0.41700000000000015\n",
            "0.7625000000000001 -0.3340000000000002\n",
            "0.7625000000000001 -0.2510000000000001\n",
            "0.7625000000000001 -0.16800000000000015\n",
            "0.7625000000000001 -0.08500000000000019\n",
            "0.7625000000000001 -0.002000000000000224\n",
            "0.7625000000000001 0.08099999999999996\n",
            "0.7625000000000001 0.16399999999999992\n",
            "0.7625000000000001 0.2469999999999999\n",
            "0.81 -1.33\n",
            "0.81 -1.247\n",
            "0.81 -1.1640000000000001\n",
            "0.81 -1.0810000000000002\n",
            "0.81 -0.9980000000000001\n",
            "0.81 -0.9150000000000001\n",
            "0.81 -0.8320000000000001\n",
            "0.81 -0.7490000000000001\n",
            "0.81 -0.6660000000000001\n",
            "0.81 -0.5830000000000001\n",
            "0.81 -0.5000000000000002\n",
            "0.81 -0.41700000000000015\n",
            "0.81 -0.3340000000000002\n",
            "0.81 -0.2510000000000001\n",
            "0.81 -0.16800000000000015\n",
            "0.81 -0.08500000000000019\n",
            "0.81 -0.002000000000000224\n",
            "0.81 0.08099999999999996\n",
            "0.81 0.16399999999999992\n",
            "0.81 0.2469999999999999\n",
            "0.8574999999999999 -1.33\n",
            "0.8574999999999999 -1.247\n",
            "0.8574999999999999 -1.1640000000000001\n",
            "0.8574999999999999 -1.0810000000000002\n",
            "0.8574999999999999 -0.9980000000000001\n",
            "0.8574999999999999 -0.9150000000000001\n",
            "0.8574999999999999 -0.8320000000000001\n",
            "0.8574999999999999 -0.7490000000000001\n",
            "0.8574999999999999 -0.6660000000000001\n",
            "0.8574999999999999 -0.5830000000000001\n",
            "0.8574999999999999 -0.5000000000000002\n",
            "0.8574999999999999 -0.41700000000000015\n",
            "0.8574999999999999 -0.3340000000000002\n",
            "0.8574999999999999 -0.2510000000000001\n",
            "0.8574999999999999 -0.16800000000000015\n",
            "0.8574999999999999 -0.08500000000000019\n",
            "0.8574999999999999 -0.002000000000000224\n",
            "0.8574999999999999 0.08099999999999996\n",
            "0.8574999999999999 0.16399999999999992\n",
            "0.8574999999999999 0.2469999999999999\n",
            "0.9049999999999999 -1.33\n",
            "0.9049999999999999 -1.247\n",
            "0.9049999999999999 -1.1640000000000001\n",
            "0.9049999999999999 -1.0810000000000002\n",
            "0.9049999999999999 -0.9980000000000001\n",
            "0.9049999999999999 -0.9150000000000001\n",
            "0.9049999999999999 -0.8320000000000001\n",
            "0.9049999999999999 -0.7490000000000001\n",
            "0.9049999999999999 -0.6660000000000001\n",
            "0.9049999999999999 -0.5830000000000001\n",
            "0.9049999999999999 -0.5000000000000002\n",
            "0.9049999999999999 -0.41700000000000015\n",
            "0.9049999999999999 -0.3340000000000002\n",
            "0.9049999999999999 -0.2510000000000001\n",
            "0.9049999999999999 -0.16800000000000015\n",
            "0.9049999999999999 -0.08500000000000019\n",
            "0.9049999999999999 -0.002000000000000224\n",
            "0.9049999999999999 0.08099999999999996\n",
            "0.9049999999999999 0.16399999999999992\n",
            "0.9049999999999999 0.2469999999999999\n",
            "0.9525000000000001 -1.33\n",
            "0.9525000000000001 -1.247\n",
            "0.9525000000000001 -1.1640000000000001\n",
            "0.9525000000000001 -1.0810000000000002\n",
            "0.9525000000000001 -0.9980000000000001\n",
            "0.9525000000000001 -0.9150000000000001\n",
            "0.9525000000000001 -0.8320000000000001\n",
            "0.9525000000000001 -0.7490000000000001\n",
            "0.9525000000000001 -0.6660000000000001\n",
            "0.9525000000000001 -0.5830000000000001\n",
            "0.9525000000000001 -0.5000000000000002\n",
            "0.9525000000000001 -0.41700000000000015\n",
            "0.9525000000000001 -0.3340000000000002\n",
            "0.9525000000000001 -0.2510000000000001\n",
            "0.9525000000000001 -0.16800000000000015\n",
            "0.9525000000000001 -0.08500000000000019\n",
            "0.9525000000000001 -0.002000000000000224\n",
            "0.9525000000000001 0.08099999999999996\n",
            "0.9525000000000001 0.16399999999999992\n",
            "0.9525000000000001 0.2469999999999999\n"
          ]
        }
      ]
    },
    {
      "cell_type": "code",
      "metadata": {
        "id": "WQFuMiGZzreC"
      },
      "source": [
        "import seaborn as sns"
      ],
      "execution_count": 135,
      "outputs": []
    },
    {
      "cell_type": "code",
      "metadata": {
        "colab": {
          "base_uri": "https://localhost:8080/",
          "height": 284
        },
        "id": "MjabTOVZzwe9",
        "outputId": "1ebad734-8fd4-44ac-8e04-f286716356c6"
      },
      "source": [
        "sns.heatmap(chi2)"
      ],
      "execution_count": 136,
      "outputs": [
        {
          "output_type": "execute_result",
          "data": {
            "text/plain": [
              "<matplotlib.axes._subplots.AxesSubplot at 0x7f656e232bd0>"
            ]
          },
          "metadata": {},
          "execution_count": 136
        },
        {
          "output_type": "display_data",
          "data": {
            "image/png": "[encoded data removed]",
            "text/plain": [
              "<Figure size 432x288 with 2 Axes>"
            ]
          },
          "metadata": {
            "needs_background": "light"
          }
        }
      ]
    },
    {
      "cell_type": "code",
      "metadata": {
        "id": "0GD_3sn3zH88"
      },
      "source": [
        "# print(chi2)"
      ],
      "execution_count": 137,
      "outputs": []
    },
    {
      "cell_type": "code",
      "metadata": {
        "id": "sWFxcOmSool_"
      },
      "source": [
        "# Buscamos el mínimo\n",
        "min_chisq = np.amin(chi2)\n",
        "ind = np.where(chi2 == min_chisq)\n",
        "Ol_min=Ol[ind[0]]\n",
        "w_min = w[ind[1]]\n",
        "\n",
        "#chi2_min=chi2[ind]    \n",
        "#Ol_min=Ol[ind]"
      ],
      "execution_count": 138,
      "outputs": []
    },
    {
      "cell_type": "code",
      "metadata": {
        "colab": {
          "base_uri": "https://localhost:8080/"
        },
        "id": "0k1LlRkE0fLL",
        "outputId": "d598c88d-0231-4fad-cfe5-c5400b66e55c"
      },
      "source": [
        "print(chi2.shape)"
      ],
      "execution_count": 139,
      "outputs": [
        {
          "output_type": "stream",
          "name": "stdout",
          "text": [
            "(20, 20)\n"
          ]
        }
      ]
    },
    {
      "cell_type": "code",
      "metadata": {
        "colab": {
          "base_uri": "https://localhost:8080/"
        },
        "id": "-BQySh5Y0qy7",
        "outputId": "9f06df1d-6814-45dc-e205-0e127eb9ff57"
      },
      "source": [
        "print(min_chisq)"
      ],
      "execution_count": 140,
      "outputs": [
        {
          "output_type": "stream",
          "name": "stdout",
          "text": [
            "30.822890960998908\n"
          ]
        }
      ]
    },
    {
      "cell_type": "code",
      "metadata": {
        "colab": {
          "base_uri": "https://localhost:8080/"
        },
        "id": "LiYWPmuZz1ZR",
        "outputId": "25305f2a-7491-4daf-f702-0c141e5e84c8"
      },
      "source": [
        "print(ind)"
      ],
      "execution_count": 141,
      "outputs": [
        {
          "output_type": "stream",
          "name": "stdout",
          "text": [
            "(array([17]), array([7]))\n"
          ]
        }
      ]
    },
    {
      "cell_type": "code",
      "metadata": {
        "colab": {
          "base_uri": "https://localhost:8080/"
        },
        "id": "wGzmk9i-P-AQ",
        "outputId": "0e628042-6cb2-4e9e-94cb-d67a1e082c32"
      },
      "source": [
        "print(Ol_min)"
      ],
      "execution_count": 142,
      "outputs": [
        {
          "output_type": "stream",
          "name": "stdout",
          "text": [
            "[0.8575]\n"
          ]
        }
      ]
    },
    {
      "cell_type": "code",
      "metadata": {
        "colab": {
          "base_uri": "https://localhost:8080/"
        },
        "id": "ZXLCLeks2WlZ",
        "outputId": "e1683a6a-d785-4b1d-f410-0e9ed9df0fd7"
      },
      "source": [
        "print(w_min)"
      ],
      "execution_count": 143,
      "outputs": [
        {
          "output_type": "stream",
          "name": "stdout",
          "text": [
            "[-0.749]\n"
          ]
        }
      ]
    },
    {
      "cell_type": "code",
      "metadata": {
        "colab": {
          "base_uri": "https://localhost:8080/"
        },
        "id": "b-Jn9xa7oooj",
        "outputId": "eb8ae486-935f-40a0-fe7f-b62c7f617911"
      },
      "source": [
        "# Calculamos el error asociado a la estimación\n",
        "# thr = 0.00014 # Fiducial settings\n",
        "thr = 0.8\n",
        "error_ol=0.0\n",
        "error_w = 0.0\n",
        "for ie in np.arange(nsample):\n",
        "    for je in np.arange(nsample):\n",
        "        if ( np.abs(chi2[ie,je]-min_chisq-1)<thr):\n",
        "            print('entro')\n",
        "            error_ol=np.abs(Ol[ie]-Ol_min)\n",
        "            error_w = np.abs(w[je]-w_min)\n"
      ],
      "execution_count": 149,
      "outputs": [
        {
          "output_type": "stream",
          "name": "stdout",
          "text": [
            "entro\n",
            "entro\n",
            "entro\n",
            "entro\n",
            "entro\n"
          ]
        }
      ]
    },
    {
      "cell_type": "code",
      "metadata": {
        "colab": {
          "base_uri": "https://localhost:8080/"
        },
        "id": "zKWXN_iD4Gsb",
        "outputId": "73858ef0-3fb5-4d4e-b57d-0c6c8e1e6a2f"
      },
      "source": [
        "print(error_ol)"
      ],
      "execution_count": 150,
      "outputs": [
        {
          "output_type": "stream",
          "name": "stdout",
          "text": [
            "[0.0475]\n"
          ]
        }
      ]
    },
    {
      "cell_type": "code",
      "metadata": {
        "colab": {
          "base_uri": "https://localhost:8080/"
        },
        "id": "Q5wI83yV4KKs",
        "outputId": "d4fdf512-d207-4311-f588-18b986437758"
      },
      "source": [
        "print(error_w)"
      ],
      "execution_count": 151,
      "outputs": [
        {
          "output_type": "stream",
          "name": "stdout",
          "text": [
            "[0.083]\n"
          ]
        }
      ]
    },
    {
      "cell_type": "code",
      "metadata": {
        "id": "uAFlzaJvQNSS",
        "colab": {
          "base_uri": "https://localhost:8080/"
        },
        "outputId": "60227903-2431-4737-e5e1-88c5756d6004"
      },
      "source": [
        "chi2"
      ],
      "execution_count": 152,
      "outputs": [
        {
          "output_type": "execute_result",
          "data": {
            "text/plain": [
              "array([[ 850.54530666,  855.42249563,  860.56328101,  865.98760167,\n",
              "         871.71728795,  877.77627122,  884.1908188 ,  890.9897975 ,\n",
              "         898.20496903,  905.87132094,  914.02743702,  922.71591113,\n",
              "         931.98380838,  941.88317752,  952.47161766,  963.81290141,\n",
              "         975.97765489,  989.04409231, 1003.09879916, 1018.23755267],\n",
              "       [ 736.18706344,  745.23181091,  754.79685186,  764.92294857,\n",
              "         775.65480359,  787.0414949 ,  799.13696119,  812.00054211,\n",
              "         825.69757827,  840.30007551,  855.88743719,  872.54726682,\n",
              "         890.37624137,  909.48105215,  929.97940576,  952.00107086,\n",
              "         975.68894816, 1001.20013013, 1028.70690362, 1058.3976339 ],\n",
              "       [ 627.33017848,  640.02496705,  653.5053071 ,  667.83497693,\n",
              "         683.08401209,  699.3293877 ,  716.6557732 ,  735.15636392,\n",
              "         754.93379289,  776.10112369,  798.78292263,  823.11640319,\n",
              "         849.2526297 ,  877.35775825,  907.61428126,  940.22222846,\n",
              "         975.40025988, 1013.3865684 , 1054.43949116, 1098.83771435],\n",
              "       [ 524.5806203 ,  540.33476308,  557.15133313,  575.11973264,\n",
              "         594.33822692,  614.91488864,  636.96863082,  660.63032952,\n",
              "         686.04403347,  713.36825268,  742.77731081,  774.46273648,\n",
              "         808.63465597,  845.52313421,  885.37939214,  928.47680815,\n",
              "         975.11159004, 1025.60298657, 1080.29289689, 1139.54473986],\n",
              "       [ 428.63213385,  446.76901989,  466.26072733,  487.22537822,\n",
              "         509.79286968,  534.1060846 ,  560.3221973 ,  588.61406702,\n",
              "         619.17170476,  652.20378955,  687.93919755,  726.62849138,\n",
              "         768.54529793,  813.98748074,  863.27799004,  916.76525143,\n",
              "         974.82293866, 1037.84897172, 1106.26359591, 1180.50643644],\n",
              "       [ 340.28380049,  360.02519544,  381.43433006,  404.66171686,\n",
              "         429.8728718 ,  457.24978186,  486.99245792,  519.32055228,\n",
              "         554.47500819,  592.71969352,  634.34295191,  679.65898293,\n",
              "         729.00893765,  782.76159159,  841.31343504,  905.08800755,\n",
              "         974.53430574, 1050.12411834, 1132.34819589, 1221.71124549],\n",
              "       [ 260.4622874 ,  280.90880493,  303.36297494,  328.01204754,\n",
              "         355.06182075,  384.73833477,  417.28961996,  452.9874576 ,\n",
              "         492.12909517,  535.03883655,  582.06940332,  633.60293659,\n",
              "         690.051483  ,  751.8567869 ,  819.48920081,  893.44553371,\n",
              "         974.24569129, 1062.42802819, 1158.54343005, 1263.14826604],\n",
              "       [ 190.25040644,  210.35692845,  232.84644612,  257.948091  ,\n",
              "         285.91338418,  317.01809943,  351.5641185 ,  389.88121048,\n",
              "         432.32864399,  479.29651418,  531.20663918,  588.51285318,\n",
              "         651.70050337,  721.2849497 ,  797.80888006,  881.83829522,\n",
              "         973.95709531, 1074.76031004, 1184.84615079, 1304.80720319],\n",
              "       [ 593.84937164,  593.84937164,  593.84937164,  593.84937164,\n",
              "         593.84937164,  593.84937164,  593.84937164,  593.84937164,\n",
              "         593.84937164,  593.84937164,  593.84937164,  593.84937164,\n",
              "         593.84937164,  593.84937164,  593.84937164,  593.84937164,\n",
              "         593.84937164,  593.84937164,  593.84937164,  593.84937164],\n",
              "       [  84.0027467 ,   99.54498562,  118.37535994,  140.82609238,\n",
              "         167.26013457,  198.0730272 ,  233.6945053 ,  274.58970626,\n",
              "         321.259808  ,  374.24189814,  434.10785581,  501.46202563,\n",
              "         576.93748565,  661.19076723,  754.89497999,  858.73142758,\n",
              "         973.3799588 , 1099.50845921, 1237.76202127, 1388.75240444],\n",
              "       [  51.31352287,   62.14260398,   76.82450246,   95.75499931,\n",
              "         119.36484345,  148.12131893,  182.52935377,  223.13198601,\n",
              "         270.50997539,  325.28033252,  388.09353767,  459.62924867,\n",
              "         540.59036024,  631.69538076,  733.66923524,  847.23277166,\n",
              "         973.09141828, 1111.92357786, 1264.36941909, 1431.02071452],\n",
              "       [  35.08518293,   39.14691512,   47.73521536,   61.31926185,\n",
              "          80.40715068,  105.54686077,  137.32649511,  176.37357589,\n",
              "         223.35315639,  278.96451694,  343.93624544,  419.01957282,\n",
              "         504.97994686,  602.58698024,  712.60308672,  835.77129801,\n",
              "         972.80289626, 1124.36557085, 1291.07278947, 1473.47496143],\n",
              "       [  38.07673969,   32.87477283,   33.02108922,   39.06960359,\n",
              "          51.61634548,   71.29939402,   98.79776257,  134.82898946,\n",
              "         180.14520058,  235.52744978,  301.77822255,  379.71211108,\n",
              "         470.14483199,  573.88094522,  691.70081725,  824.34751588,\n",
              "         972.51439274, 1136.83407978, 1317.86949752, 1516.10726996],\n",
              "       [  63.76693839,   46.22248397,   35.05216596,   30.90737237,\n",
              "          34.48328748,   46.51722061,   67.78551491,   99.09880531,\n",
              "         141.29544546,  195.23301394,  261.77794539,  341.79350632,\n",
              "         436.12653169,  545.5935255 ,  670.96686984,  812.96194399,\n",
              "         972.22590773, 1149.32875228, 1344.75699672, 1558.9101521 ],\n",
              "       [ 116.64074339,   82.88691635,   56.82099189,   39.20536609,\n",
              "          30.84514188,   32.58410899,   45.29893902,   69.89144126,\n",
              "         107.27883171,  158.38211754,  224.11288648,  305.35899296,\n",
              "         402.96981854,  517.74191282,  650.40585632,  801.61511079,\n",
              "         971.93744124, 1161.84924197, 1371.73282486, 1601.8764813 ],\n",
              "       [ 202.64326762,  147.71034006,  102.19712579,   66.98950734,\n",
              "          43.01013346,   31.21116278,   32.56497512,   48.05287175,\n",
              "          78.65195479,  125.32057524,  188.98294341,  270.51366899,\n",
              "         370.72309936,  490.34432077,  630.02256664,  790.30755474,\n",
              "         971.64899327, 1174.39520826, 1398.7946002 , 1644.99946906],\n",
              "       [ 329.94222713,  247.24854886,  176.33762596,  118.22511626,\n",
              "          73.94918279,   44.55913602,   31.10214356,   34.60833343,\n",
              "          56.07482414,   96.44940771,  156.6147518 ,  237.37403436,\n",
              "         339.4388542 ,  463.420074  ,  609.82197881,  779.03982453,\n",
              "         971.36056383, 1186.96631624, 1425.94001792, 1688.27264335],\n",
              "       [ 510.31197322,  390.77709389,  286.39481847,  198.29625946,\n",
              "         127.60674167,   75.43012276,   42.83205144,   30.82289096,\n",
              "          40.34118327,   72.23859035,  127.2671954 ,  206.06987118,\n",
              "         309.17414996,  436.98970831,  589.80926964,  767.81247942,\n",
              "         971.07215292, 1199.56223652, 1453.16684668, 1731.6898289 ],\n",
              "       [ 761.93674454,  592.26306759,  442.85435964,  314.87753184,\n",
              "         209.4430493 ,  127.5874374 ,   70.25693992,   38.29326069,\n",
              "          32.42221317,   53.24587953,  101.23857399,  176.74656982,\n",
              "         279.99124569,  411.07508328,  569.98982635,  756.62608949,\n",
              "         970.78376055, 1212.18264516, 1480.4729255 , 1775.24512903],\n",
              "       [1116.14395564,  874.87412733,  662.43855979,  479.7231076 ,\n",
              "         327.48353928,  206.33796578,  116.76320309,   59.0950669 ,\n",
              "          33.53227808,   40.1434065 ,   78.87613037,  149.56804629,\n",
              "         251.95831172,  385.69950953,  550.36925904,  745.48123594,\n",
              "         970.49538672, 1224.82722346, 1507.85616072, 1818.93290894]])"
            ]
          },
          "metadata": {},
          "execution_count": 152
        }
      ]
    },
    {
      "cell_type": "code",
      "metadata": {
        "id": "-RySw1Zdooro",
        "colab": {
          "base_uri": "https://localhost:8080/"
        },
        "outputId": "214adbd1-0b22-4226-dd0a-5002c3a70bb2"
      },
      "source": [
        "print('Best fit values Omega_Lambda: {0} +/- {1}'.format(np.round(Ol_min,3),np.round(error_ol,3)))"
      ],
      "execution_count": 153,
      "outputs": [
        {
          "output_type": "stream",
          "name": "stdout",
          "text": [
            "Best fit values Omega_Lambda: [0.857] +/- [0.047]\n"
          ]
        }
      ]
    },
    {
      "cell_type": "code",
      "metadata": {
        "id": "Zlni5fsoEL52",
        "colab": {
          "base_uri": "https://localhost:8080/"
        },
        "outputId": "fd17289d-133e-4d3c-fe57-fe1bf69886dd"
      },
      "source": [
        "print('Best fit values w: {0} +/- {1}'.format(np.round(w_min,3),np.round(error_w,3)))"
      ],
      "execution_count": 154,
      "outputs": [
        {
          "output_type": "stream",
          "name": "stdout",
          "text": [
            "Best fit values w: [-0.749] +/- [0.083]\n"
          ]
        }
      ]
    },
    {
      "cell_type": "code",
      "metadata": {
        "id": "9lsT0-txoo4L",
        "colab": {
          "base_uri": "https://localhost:8080/",
          "height": 288
        },
        "outputId": "43787e53-c83d-4224-edce-7e38071cc74e"
      },
      "source": [
        "\"\"\" Plotting Chi-2 \"\"\"\n",
        "plt.figure(figsize=(4,4))\n",
        "plt.plot(Ol,chi2-min_chisq)\n",
        "plt.xlabel(r'$\\Omega_{\\Lambda}$',fontsize=13)\n",
        "plt.ylabel(r'$\\Delta \\chi^2 = \\chi^2 - \\chi_{min}^2$',fontsize=13)\n",
        "plt.xlim([0.6,0.8])\n",
        "plt.ylim([0,5])\n",
        "plt.grid(alpha=0.35,linewidth=1,linestyle='--')\n",
        "plt.hlines(y=1,xmin=0.6,xmax=0.8,linestyles='dashed',alpha=0.5)\n",
        "plt.savefig(os.path.join('sn_chi2.png'),\n",
        "            format='png',\n",
        "            dpi=200,\n",
        "            transparent=False,\n",
        "            bbox_inches='tight')\n",
        "plt.show()"
      ],
      "execution_count": 155,
      "outputs": [
        {
          "output_type": "display_data",
          "data": {
            "image/png": "[encoded data removed]",
            "text/plain": [
              "<Figure size 288x288 with 1 Axes>"
            ]
          },
          "metadata": {
            "needs_background": "light"
          }
        }
      ]
    },
    {
      "cell_type": "markdown",
      "metadata": {
        "id": "AhcVofu_qHGB"
      },
      "source": [
        "Representamos la superficie $\\Delta \\chi = \\chi^2 - \\chi_{min}^2$ cuyo mínimo nos ha indicado los valores de $\\Omega_\\Lambda$ y $w$ que mejor ajustan nuestros datos."
      ]
    },
    {
      "cell_type": "code",
      "metadata": {
        "id": "zixKYv4urFnp"
      },
      "source": [
        "from mpl_toolkits.mplot3d import Axes3D\n",
        "from matplotlib import cm "
      ],
      "execution_count": 156,
      "outputs": []
    },
    {
      "cell_type": "code",
      "metadata": {
        "id": "ysMXsBApm3up"
      },
      "source": [
        "DChi = chi2 - min_chisq * np.ones_like(chi2)"
      ],
      "execution_count": 157,
      "outputs": []
    },
    {
      "cell_type": "code",
      "metadata": {
        "colab": {
          "base_uri": "https://localhost:8080/",
          "height": 575
        },
        "id": "qpL1RqVYq7Nd",
        "outputId": "6547ca12-8bce-49bc-a28e-20caf97e6d47"
      },
      "source": [
        "hf = plt.figure(figsize=(10, 10))\n",
        "ha = hf.add_subplot(111, projection='3d')\n",
        "\n",
        "Ol_range, w_range = np.meshgrid(Ol, w, indexing='ij')  # `plot_surface` expects `x` and `y` data to be 2D\n",
        "# ha.plot_surface(meff, DNeff, mthermal_mat)\n",
        "# surf = ha.plot_wireframe(Ol_range, w_range, DChi, cmap=cm.jet, rstride=5, cstride=5)\n",
        "surf = ha.plot_surface(Ol_range, w_range, DChi, cmap=cm.hot, rstride=1, cstride=1, alpha=.65)\n",
        "# ha.set_zlim(0,np.matrix.mean(np.matrix(DChi) + np.matrix.std(np.matrix(DChi))))\n",
        "# ha.set_ylim(-1.1,0.25)\n",
        "hf.colorbar(surf, shrink=.5, aspect=10)\n",
        "\n",
        "ha.scatter(Ol_min, w_min, 0.0, marker=\"*\", color=\"black\")\n",
        "\n",
        "# Labels\n",
        "ha.set_xlabel(r'$\\Omega_\\Lambda$', fontsize=18)\n",
        "ha.set_ylabel(r'$w_{DE}$', fontsize=18)\n",
        "ha.set_zlabel(r'$\\Delta \\chi^2 \\equiv \\chi^2 - \\chi_{min}^2$', fontsize=18, labelpad=10)\n",
        "\n",
        "# Angle\n",
        "ha.view_init(15.0, 30.0)\n",
        "\n",
        "plt.savefig('dchi2_surface.png',\n",
        "            dpi=200,\n",
        "            transparent=True,\n",
        "            bbox_inches='tight')"
      ],
      "execution_count": 194,
      "outputs": [
        {
          "output_type": "display_data",
          "data": {
            "image/png": "[encoded data removed]",
            "text/plain": [
              "<Figure size 720x720 with 2 Axes>"
            ]
          },
          "metadata": {
            "needs_background": "light"
          }
        }
      ]
    },
    {
      "cell_type": "code",
      "metadata": {
        "id": "DGZUj4O_1pFd"
      },
      "source": [
        ""
      ],
      "execution_count": null,
      "outputs": []
    }
  ]
}